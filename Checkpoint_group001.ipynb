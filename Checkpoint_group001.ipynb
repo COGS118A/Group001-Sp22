{
  "cells": [
    {
      "cell_type": "markdown",
      "metadata": {
        "id": "T7MC8HMGROWD"
      },
      "source": [
        "# COGS 118A- Project Proposal"
      ]
    },
    {
      "cell_type": "markdown",
      "metadata": {
        "id": "eOBJOXAZROWF"
      },
      "source": [
        "# Project Description\n",
        "\n",
        "You will design and execute a machine learning project. There are a few constraints on the nature of the allowed project. \n",
        "- The problem addressed will not be a \"toy problem\" or \"common training students problem\" like mtcars, iris, palmer penguins etc.\n",
        "- The dataset will have >1k observations and >5 variables. I'd prefer more like >10k observations and >10 variables. A general rule is that if you have >100x more observations than variables, your solution will likely generalize a lot better. The goal of training a supervised machine learning model is to learn the underlying pattern in a dataset in order to generalize well to unseen data, so choosing a large dataset is very important.\n",
        "\n",
        "- The project will include a model selection and/or feature selection component where you will be looking for the best setup to maximize the performance of your ML system.\n",
        "- You will evaluate the performance of your ML system using more than one appropriate metric\n",
        "- You will be writing a report describing and discussing these accomplishments\n",
        "\n",
        "\n",
        "Feel free to delete this description section when you hand in your proposal."
      ]
    },
    {
      "cell_type": "markdown",
      "metadata": {
        "id": "9igVLA46ROWG"
      },
      "source": [
        "### Peer Review\n",
        "\n",
        "You will all have an opportunity to look at the Project Proposals of other groups to fuel your creativity and get more ideas for how you can improve your own projects. \n",
        "\n",
        "Both the project proposal and project checkpoint will have peer review."
      ]
    },
    {
      "cell_type": "markdown",
      "metadata": {
        "id": "vVA4oOQDROWG"
      },
      "source": [
        "# Names\n",
        "\n",
        "- Alan Cao (A16160244)\n",
        "- Connie Chang (A16651609)\n",
        "- Helen Zhao (A15919169)\n",
        "- Shawn Kim (A15785021)\n",
        "- Robert Aispuro (A12086294)\n"
      ]
    },
    {
      "cell_type": "markdown",
      "metadata": {
        "id": "WClFIXsZROWH"
      },
      "source": [
        "# Abstract \n",
        "\n",
        "Heart disease is a common cause of death in the United States. Using data from the Center for Disease and Control and Prevention (CDC), we will create a predictive machine learning model that is effective in detecting heart disease. We will conduct both logistic regression and random forest decision tree methods to analyze the effects of heart disease on factors including smoking, age, and alcohol usage. By analyzing this data set, we aim to grasp a better understanding of heart disease and hopefully reduce the number of cardiovascular deaths overall. Performance will be measured using metrics including precision and the F1 score.\n",
        "\n"
      ]
    },
    {
      "cell_type": "markdown",
      "metadata": {
        "id": "9qAtND-DROWH"
      },
      "source": [
        "# Background"
      ]
    },
    {
      "cell_type": "markdown",
      "metadata": {
        "id": "xUnhPuwdW1IN"
      },
      "source": [
        "According to the CDC, heart disease is the leading cause of death in the United States. However, the prediction of cardiovascular disease still remains as a challenge in the area of clinical data analysis despite the continuous growth of science and technology. It goes without saying that identifying coronary heart disease during the early stages is beneficial in minimizing the development of the disease and thus preventing the need for treatment. Therefore it is extremely important to continue to develop more effective ways of more accurately identifying risk factors that play a role in predicting heart disease. \n",
        "\n",
        "Previous research has shown that traditional cardiovascular risk factors are nearly equally valuable in assessing the likelihood of someone developing CHD as a looking at a genetic test. The risk factors listed include blood pressure, cholesterol levels, diabetes, and smoking status<a name=\"Wilson\"></a>[<sup>[1]</sup>](#Wilsonnote). Even though the genetic risk scores doesn't seem to necessarily add more predictive value, it is still necessary to develop a model that uses either traditional or genetic variables to more accurately predict CHD. Another article states that there is no clear difference in the effectiveness of using either categorical or continuous values of those risk factors in the prediction. Furthermore, the article discusses the limitations of their findings because of the exclusion of certain candidate variables. Such variables include family history of CHD, fibrinogen, exercise, and body mass index (BMI)<a name=\"UTSouth\"></a>[<sup>[2]</sup>](#UTSouthnote). Therefore, further research needs to be done on the predictive value of these excluded variables as well as the effectiveness of having a mixture of discrete and continuous variables in the predictive model.\n",
        "\n",
        "Due to the nature of heart disease risk factors to be complex and to depend largely on environmental factors, it is important to develop a model that is able to take these into consideration. Machine learning algorithms have been used in the past to detect and address the severity of the heart disease of patients. In terms of accuracy, random forest, support vector machine, deep learning, VOTE, and HRFLM are some of the best classification methods<a name=\"Mohan\"></a>[<sup>[3]</sup>](#Mohannote). Although this paper has analyzed the effectiveness of different machine learning models, further extension is needed to use real-world datasets on these models as the paper only used simulations and theoretical approaches. "
      ]
    },
    {
      "cell_type": "markdown",
      "metadata": {
        "id": "tZ7iw7OfROWI"
      },
      "source": [
        "# Problem Statement\n",
        "\n",
        "\n",
        "\n",
        "The problem we are trying to solve is to better predict which factors influence cardiovascular disease whether that be indirectly or directly. We are going to run a logistical regression on the variables. We will be using a group of techniques in order to balance the class distribution for our dataset since it has a skewed class distribution. By classifing our variables in a binary \"Yes\" or \"No\" format, we can predict which factors play a role in heart disease. We will run this alongside our whole dataset in order to replicate it with over 400,000 other patients in order to see if our model is accurate."
      ]
    },
    {
      "cell_type": "markdown",
      "metadata": {
        "id": "vPDW6gFxROWI"
      },
      "source": [
        "# Data\n",
        "\n",
        "Link/Reference: https://www.kaggle.com/datasets/kamilpytlak/personal-key-indicators-of-heart-disease\n",
        "\n",
        "The dataset includes 18 variables and just over 300,000 observations. An observation consists of attributes such as a person's BMI, whether they smoked, their age, sex, and whether they contracted a heart disease. Some crucial variables are sex represented by \"Male\" and \"Female\" and age which is represented by an interval. Some boolean values are represented by \"Yes\" or \"No\". We will need to transform these values into a numerical format (1s and 0s) in order to process them. We also have categorical variables like General Health which we can convert numerically with one hot encoding. Given these variables and which observations had heart disease, we will be able to predict how attributes contribute to cardivascular disease the most and take steps in order to prevent disease.\n",
        "\n"
      ]
    },
    {
      "cell_type": "markdown",
      "metadata": {
        "id": "tUru5Rd_GEkf"
      },
      "source": [
        "# Data Cleaning"
      ]
    },
    {
      "cell_type": "markdown",
      "metadata": {
        "id": "-Hi0ATDOGIH-"
      },
      "source": [
        "Our overall data cleaning steps are described as below:\n",
        "1. First,we drop all the nan rows\n",
        "2. Then we drop the irrevelant columns we dont need. PhyscialActivity and MentalHealth.\n",
        "3. We then keep rows from the 'Diabetic' column that are only 'Yes' or 'No'\n",
        "4. Next, we keep rows where the average sleep is < 24 hours because 24 hours is impossible.\n",
        "5. Then, we change all 'Yes' and 'No' values to 1 and 0 where 1 = True and 0 = False\n",
        "6. Finally, we reduce the number of categories from 13 to 3. Adult = 18-39. Middle Age = 40-59. Senior = 60 and up\n",
        "\n",
        "\n",
        "The number of variables in our dataset is 16. The number of observations is 310426. Each observation represents an individual adult interviewer who participated in the survey that the dataset was formed from. \n",
        "\n",
        "HeartDisease = Have you ever reported having heart disease\n",
        "\n",
        "BMI = Body Mass Index\n",
        "\n",
        "Smoking = Have you smoked at least 5 packs of cigarettes in your entire life? \n",
        "\n",
        "AlcoholDrinking = Yes if adult man has more than 14 drinks per week or adult woman has more than 7 drinks per week. No if anything else\n",
        "\n",
        "Stroke = Have you ever been told that you had a stroke?\n",
        "\n",
        "DiffWalking = Have you ever had serious difficulty walking or climbing stairs?\n",
        "\n",
        "Sex = Are you male or female?\n",
        "\n",
        "AgeCategory = 3 level age category Adult = 18-39. Middle Age = 40-59. Senior = 60 and up\n",
        "\n",
        "Race = What is your race? \n",
        "\n",
        "Diabetic = Have you ever been told you have diabetes?\n",
        "\n",
        "PhysicalActivity = Have you done physical activity or exercise during the past 30 days other than your regular job?\n",
        "\n",
        "GenHealth = On a scale from Poor, Fair, Good, Very Good, and Excellent, what would you say that in general your health is?\n",
        "\n",
        "SleepTime = On average, how many hours of sleep do you get in a 24-hour period?\n",
        "\n",
        "Asthma = Have you ever been told you had asthma?\n",
        "\n",
        "KidneyDisease = Have you ever been told you had kidney disease?(Does NOT include kidney stones)\n",
        "\n",
        "SkinCancer = Have you ever been told you have Skin Cancer? \n"
      ]
    },
    {
      "cell_type": "code",
      "execution_count": null,
      "metadata": {
        "id": "nhCitMMVDmmD"
      },
      "outputs": [],
      "source": [
        "# Imports\n",
        "\n",
        "import pandas as pd\n",
        "import matplotlib.pyplot as plt"
      ]
    },
    {
      "cell_type": "code",
      "execution_count": null,
      "metadata": {
        "colab": {
          "base_uri": "https://localhost:8080/",
          "height": 270
        },
        "id": "T2la4C6UEFWx",
        "outputId": "d808f1c0-2d4a-457a-cb21-64a9c8c75fb9"
      },
      "outputs": [
        {
          "data": {
            "text/html": [
              "\n",
              "  <div id=\"df-cdf6e7a9-1b94-4eeb-b9ed-7bffb90edf40\">\n",
              "    <div class=\"colab-df-container\">\n",
              "      <div>\n",
              "<style scoped>\n",
              "    .dataframe tbody tr th:only-of-type {\n",
              "        vertical-align: middle;\n",
              "    }\n",
              "\n",
              "    .dataframe tbody tr th {\n",
              "        vertical-align: top;\n",
              "    }\n",
              "\n",
              "    .dataframe thead th {\n",
              "        text-align: right;\n",
              "    }\n",
              "</style>\n",
              "<table border=\"1\" class=\"dataframe\">\n",
              "  <thead>\n",
              "    <tr style=\"text-align: right;\">\n",
              "      <th></th>\n",
              "      <th>HeartDisease</th>\n",
              "      <th>BMI</th>\n",
              "      <th>Smoking</th>\n",
              "      <th>AlcoholDrinking</th>\n",
              "      <th>Stroke</th>\n",
              "      <th>PhysicalHealth</th>\n",
              "      <th>MentalHealth</th>\n",
              "      <th>DiffWalking</th>\n",
              "      <th>Sex</th>\n",
              "      <th>AgeCategory</th>\n",
              "      <th>Race</th>\n",
              "      <th>Diabetic</th>\n",
              "      <th>PhysicalActivity</th>\n",
              "      <th>GenHealth</th>\n",
              "      <th>SleepTime</th>\n",
              "      <th>Asthma</th>\n",
              "      <th>KidneyDisease</th>\n",
              "      <th>SkinCancer</th>\n",
              "    </tr>\n",
              "  </thead>\n",
              "  <tbody>\n",
              "    <tr>\n",
              "      <th>0</th>\n",
              "      <td>No</td>\n",
              "      <td>16.60</td>\n",
              "      <td>Yes</td>\n",
              "      <td>No</td>\n",
              "      <td>No</td>\n",
              "      <td>3.0</td>\n",
              "      <td>30.0</td>\n",
              "      <td>No</td>\n",
              "      <td>Female</td>\n",
              "      <td>55-59</td>\n",
              "      <td>White</td>\n",
              "      <td>Yes</td>\n",
              "      <td>Yes</td>\n",
              "      <td>Very good</td>\n",
              "      <td>5.0</td>\n",
              "      <td>Yes</td>\n",
              "      <td>No</td>\n",
              "      <td>Yes</td>\n",
              "    </tr>\n",
              "    <tr>\n",
              "      <th>1</th>\n",
              "      <td>No</td>\n",
              "      <td>20.34</td>\n",
              "      <td>No</td>\n",
              "      <td>No</td>\n",
              "      <td>Yes</td>\n",
              "      <td>0.0</td>\n",
              "      <td>0.0</td>\n",
              "      <td>No</td>\n",
              "      <td>Female</td>\n",
              "      <td>80 or older</td>\n",
              "      <td>White</td>\n",
              "      <td>No</td>\n",
              "      <td>Yes</td>\n",
              "      <td>Very good</td>\n",
              "      <td>7.0</td>\n",
              "      <td>No</td>\n",
              "      <td>No</td>\n",
              "      <td>No</td>\n",
              "    </tr>\n",
              "    <tr>\n",
              "      <th>2</th>\n",
              "      <td>No</td>\n",
              "      <td>26.58</td>\n",
              "      <td>Yes</td>\n",
              "      <td>No</td>\n",
              "      <td>No</td>\n",
              "      <td>20.0</td>\n",
              "      <td>30.0</td>\n",
              "      <td>No</td>\n",
              "      <td>Male</td>\n",
              "      <td>65-69</td>\n",
              "      <td>White</td>\n",
              "      <td>Yes</td>\n",
              "      <td>Yes</td>\n",
              "      <td>Fair</td>\n",
              "      <td>8.0</td>\n",
              "      <td>Yes</td>\n",
              "      <td>No</td>\n",
              "      <td>No</td>\n",
              "    </tr>\n",
              "    <tr>\n",
              "      <th>3</th>\n",
              "      <td>No</td>\n",
              "      <td>24.21</td>\n",
              "      <td>No</td>\n",
              "      <td>No</td>\n",
              "      <td>No</td>\n",
              "      <td>0.0</td>\n",
              "      <td>0.0</td>\n",
              "      <td>No</td>\n",
              "      <td>Female</td>\n",
              "      <td>75-79</td>\n",
              "      <td>White</td>\n",
              "      <td>No</td>\n",
              "      <td>No</td>\n",
              "      <td>Good</td>\n",
              "      <td>6.0</td>\n",
              "      <td>No</td>\n",
              "      <td>No</td>\n",
              "      <td>Yes</td>\n",
              "    </tr>\n",
              "    <tr>\n",
              "      <th>4</th>\n",
              "      <td>No</td>\n",
              "      <td>23.71</td>\n",
              "      <td>No</td>\n",
              "      <td>No</td>\n",
              "      <td>No</td>\n",
              "      <td>28.0</td>\n",
              "      <td>0.0</td>\n",
              "      <td>Yes</td>\n",
              "      <td>Female</td>\n",
              "      <td>40-44</td>\n",
              "      <td>White</td>\n",
              "      <td>No</td>\n",
              "      <td>Yes</td>\n",
              "      <td>Very good</td>\n",
              "      <td>8.0</td>\n",
              "      <td>No</td>\n",
              "      <td>No</td>\n",
              "      <td>No</td>\n",
              "    </tr>\n",
              "  </tbody>\n",
              "</table>\n",
              "</div>\n",
              "      <button class=\"colab-df-convert\" onclick=\"convertToInteractive('df-cdf6e7a9-1b94-4eeb-b9ed-7bffb90edf40')\"\n",
              "              title=\"Convert this dataframe to an interactive table.\"\n",
              "              style=\"display:none;\">\n",
              "        \n",
              "  <svg xmlns=\"http://www.w3.org/2000/svg\" height=\"24px\"viewBox=\"0 0 24 24\"\n",
              "       width=\"24px\">\n",
              "    <path d=\"M0 0h24v24H0V0z\" fill=\"none\"/>\n",
              "    <path d=\"M18.56 5.44l.94 2.06.94-2.06 2.06-.94-2.06-.94-.94-2.06-.94 2.06-2.06.94zm-11 1L8.5 8.5l.94-2.06 2.06-.94-2.06-.94L8.5 2.5l-.94 2.06-2.06.94zm10 10l.94 2.06.94-2.06 2.06-.94-2.06-.94-.94-2.06-.94 2.06-2.06.94z\"/><path d=\"M17.41 7.96l-1.37-1.37c-.4-.4-.92-.59-1.43-.59-.52 0-1.04.2-1.43.59L10.3 9.45l-7.72 7.72c-.78.78-.78 2.05 0 2.83L4 21.41c.39.39.9.59 1.41.59.51 0 1.02-.2 1.41-.59l7.78-7.78 2.81-2.81c.8-.78.8-2.07 0-2.86zM5.41 20L4 18.59l7.72-7.72 1.47 1.35L5.41 20z\"/>\n",
              "  </svg>\n",
              "      </button>\n",
              "      \n",
              "  <style>\n",
              "    .colab-df-container {\n",
              "      display:flex;\n",
              "      flex-wrap:wrap;\n",
              "      gap: 12px;\n",
              "    }\n",
              "\n",
              "    .colab-df-convert {\n",
              "      background-color: #E8F0FE;\n",
              "      border: none;\n",
              "      border-radius: 50%;\n",
              "      cursor: pointer;\n",
              "      display: none;\n",
              "      fill: #1967D2;\n",
              "      height: 32px;\n",
              "      padding: 0 0 0 0;\n",
              "      width: 32px;\n",
              "    }\n",
              "\n",
              "    .colab-df-convert:hover {\n",
              "      background-color: #E2EBFA;\n",
              "      box-shadow: 0px 1px 2px rgba(60, 64, 67, 0.3), 0px 1px 3px 1px rgba(60, 64, 67, 0.15);\n",
              "      fill: #174EA6;\n",
              "    }\n",
              "\n",
              "    [theme=dark] .colab-df-convert {\n",
              "      background-color: #3B4455;\n",
              "      fill: #D2E3FC;\n",
              "    }\n",
              "\n",
              "    [theme=dark] .colab-df-convert:hover {\n",
              "      background-color: #434B5C;\n",
              "      box-shadow: 0px 1px 3px 1px rgba(0, 0, 0, 0.15);\n",
              "      filter: drop-shadow(0px 1px 2px rgba(0, 0, 0, 0.3));\n",
              "      fill: #FFFFFF;\n",
              "    }\n",
              "  </style>\n",
              "\n",
              "      <script>\n",
              "        const buttonEl =\n",
              "          document.querySelector('#df-cdf6e7a9-1b94-4eeb-b9ed-7bffb90edf40 button.colab-df-convert');\n",
              "        buttonEl.style.display =\n",
              "          google.colab.kernel.accessAllowed ? 'block' : 'none';\n",
              "\n",
              "        async function convertToInteractive(key) {\n",
              "          const element = document.querySelector('#df-cdf6e7a9-1b94-4eeb-b9ed-7bffb90edf40');\n",
              "          const dataTable =\n",
              "            await google.colab.kernel.invokeFunction('convertToInteractive',\n",
              "                                                     [key], {});\n",
              "          if (!dataTable) return;\n",
              "\n",
              "          const docLinkHtml = 'Like what you see? Visit the ' +\n",
              "            '<a target=\"_blank\" href=https://colab.research.google.com/notebooks/data_table.ipynb>data table notebook</a>'\n",
              "            + ' to learn more about interactive tables.';\n",
              "          element.innerHTML = '';\n",
              "          dataTable['output_type'] = 'display_data';\n",
              "          await google.colab.output.renderOutput(dataTable, element);\n",
              "          const docLink = document.createElement('div');\n",
              "          docLink.innerHTML = docLinkHtml;\n",
              "          element.appendChild(docLink);\n",
              "        }\n",
              "      </script>\n",
              "    </div>\n",
              "  </div>\n",
              "  "
            ],
            "text/plain": [
              "  HeartDisease    BMI Smoking AlcoholDrinking Stroke  PhysicalHealth  \\\n",
              "0           No  16.60     Yes              No     No             3.0   \n",
              "1           No  20.34      No              No    Yes             0.0   \n",
              "2           No  26.58     Yes              No     No            20.0   \n",
              "3           No  24.21      No              No     No             0.0   \n",
              "4           No  23.71      No              No     No            28.0   \n",
              "\n",
              "   MentalHealth DiffWalking     Sex  AgeCategory   Race Diabetic  \\\n",
              "0          30.0          No  Female        55-59  White      Yes   \n",
              "1           0.0          No  Female  80 or older  White       No   \n",
              "2          30.0          No    Male        65-69  White      Yes   \n",
              "3           0.0          No  Female        75-79  White       No   \n",
              "4           0.0         Yes  Female        40-44  White       No   \n",
              "\n",
              "  PhysicalActivity  GenHealth  SleepTime Asthma KidneyDisease SkinCancer  \n",
              "0              Yes  Very good        5.0    Yes            No        Yes  \n",
              "1              Yes  Very good        7.0     No            No         No  \n",
              "2              Yes       Fair        8.0    Yes            No         No  \n",
              "3               No       Good        6.0     No            No        Yes  \n",
              "4              Yes  Very good        8.0     No            No         No  "
            ]
          },
          "execution_count": 9,
          "metadata": {},
          "output_type": "execute_result"
        }
      ],
      "source": [
        "# Load dataset\n",
        "\n",
        "df = pd.read_csv('heart_2020_cleaned.csv')\n",
        "df.head()"
      ]
    },
    {
      "cell_type": "code",
      "execution_count": null,
      "metadata": {
        "id": "9GKGqNe5Ejyr"
      },
      "outputs": [],
      "source": [
        "df.dropna(inplace=True) # Drop all nan rows\n",
        "df.drop(columns=['PhysicalHealth', 'MentalHealth'], inplace=True) # Drop specific columns"
      ]
    },
    {
      "cell_type": "code",
      "execution_count": null,
      "metadata": {
        "colab": {
          "base_uri": "https://localhost:8080/"
        },
        "id": "VeUf8zDSGdvF",
        "outputId": "f2c6dc37-d138-46e1-f941-eb6fc55813fe"
      },
      "outputs": [
        {
          "data": {
            "text/plain": [
              "Index(['HeartDisease', 'BMI', 'Smoking', 'AlcoholDrinking', 'Stroke',\n",
              "       'DiffWalking', 'Sex', 'AgeCategory', 'Race', 'Diabetic',\n",
              "       'PhysicalActivity', 'GenHealth', 'SleepTime', 'Asthma', 'KidneyDisease',\n",
              "       'SkinCancer'],\n",
              "      dtype='object')"
            ]
          },
          "execution_count": 11,
          "metadata": {},
          "output_type": "execute_result"
        }
      ],
      "source": [
        "df.columns # Print remaining columns"
      ]
    },
    {
      "cell_type": "code",
      "execution_count": null,
      "metadata": {
        "colab": {
          "base_uri": "https://localhost:8080/",
          "height": 270
        },
        "id": "To2W8qxyG7Pn",
        "outputId": "62622e2b-ac81-4dd9-fc43-21c51cad76d7"
      },
      "outputs": [
        {
          "data": {
            "text/html": [
              "\n",
              "  <div id=\"df-283bacf0-73f7-4b69-ae6f-e151ff02509b\">\n",
              "    <div class=\"colab-df-container\">\n",
              "      <div>\n",
              "<style scoped>\n",
              "    .dataframe tbody tr th:only-of-type {\n",
              "        vertical-align: middle;\n",
              "    }\n",
              "\n",
              "    .dataframe tbody tr th {\n",
              "        vertical-align: top;\n",
              "    }\n",
              "\n",
              "    .dataframe thead th {\n",
              "        text-align: right;\n",
              "    }\n",
              "</style>\n",
              "<table border=\"1\" class=\"dataframe\">\n",
              "  <thead>\n",
              "    <tr style=\"text-align: right;\">\n",
              "      <th></th>\n",
              "      <th>HeartDisease</th>\n",
              "      <th>BMI</th>\n",
              "      <th>Smoking</th>\n",
              "      <th>AlcoholDrinking</th>\n",
              "      <th>Stroke</th>\n",
              "      <th>DiffWalking</th>\n",
              "      <th>Sex</th>\n",
              "      <th>AgeCategory</th>\n",
              "      <th>Race</th>\n",
              "      <th>Diabetic</th>\n",
              "      <th>PhysicalActivity</th>\n",
              "      <th>GenHealth</th>\n",
              "      <th>SleepTime</th>\n",
              "      <th>Asthma</th>\n",
              "      <th>KidneyDisease</th>\n",
              "      <th>SkinCancer</th>\n",
              "    </tr>\n",
              "  </thead>\n",
              "  <tbody>\n",
              "    <tr>\n",
              "      <th>0</th>\n",
              "      <td>0</td>\n",
              "      <td>16.60</td>\n",
              "      <td>1</td>\n",
              "      <td>0</td>\n",
              "      <td>0</td>\n",
              "      <td>0</td>\n",
              "      <td>Female</td>\n",
              "      <td>55-59</td>\n",
              "      <td>White</td>\n",
              "      <td>1</td>\n",
              "      <td>1</td>\n",
              "      <td>Very good</td>\n",
              "      <td>5.0</td>\n",
              "      <td>1</td>\n",
              "      <td>0</td>\n",
              "      <td>1</td>\n",
              "    </tr>\n",
              "    <tr>\n",
              "      <th>1</th>\n",
              "      <td>0</td>\n",
              "      <td>20.34</td>\n",
              "      <td>0</td>\n",
              "      <td>0</td>\n",
              "      <td>1</td>\n",
              "      <td>0</td>\n",
              "      <td>Female</td>\n",
              "      <td>80 or older</td>\n",
              "      <td>White</td>\n",
              "      <td>0</td>\n",
              "      <td>1</td>\n",
              "      <td>Very good</td>\n",
              "      <td>7.0</td>\n",
              "      <td>0</td>\n",
              "      <td>0</td>\n",
              "      <td>0</td>\n",
              "    </tr>\n",
              "    <tr>\n",
              "      <th>2</th>\n",
              "      <td>0</td>\n",
              "      <td>26.58</td>\n",
              "      <td>1</td>\n",
              "      <td>0</td>\n",
              "      <td>0</td>\n",
              "      <td>0</td>\n",
              "      <td>Male</td>\n",
              "      <td>65-69</td>\n",
              "      <td>White</td>\n",
              "      <td>1</td>\n",
              "      <td>1</td>\n",
              "      <td>Fair</td>\n",
              "      <td>8.0</td>\n",
              "      <td>1</td>\n",
              "      <td>0</td>\n",
              "      <td>0</td>\n",
              "    </tr>\n",
              "    <tr>\n",
              "      <th>3</th>\n",
              "      <td>0</td>\n",
              "      <td>24.21</td>\n",
              "      <td>0</td>\n",
              "      <td>0</td>\n",
              "      <td>0</td>\n",
              "      <td>0</td>\n",
              "      <td>Female</td>\n",
              "      <td>75-79</td>\n",
              "      <td>White</td>\n",
              "      <td>0</td>\n",
              "      <td>0</td>\n",
              "      <td>Good</td>\n",
              "      <td>6.0</td>\n",
              "      <td>0</td>\n",
              "      <td>0</td>\n",
              "      <td>1</td>\n",
              "    </tr>\n",
              "    <tr>\n",
              "      <th>4</th>\n",
              "      <td>0</td>\n",
              "      <td>23.71</td>\n",
              "      <td>0</td>\n",
              "      <td>0</td>\n",
              "      <td>0</td>\n",
              "      <td>1</td>\n",
              "      <td>Female</td>\n",
              "      <td>40-44</td>\n",
              "      <td>White</td>\n",
              "      <td>0</td>\n",
              "      <td>1</td>\n",
              "      <td>Very good</td>\n",
              "      <td>8.0</td>\n",
              "      <td>0</td>\n",
              "      <td>0</td>\n",
              "      <td>0</td>\n",
              "    </tr>\n",
              "  </tbody>\n",
              "</table>\n",
              "</div>\n",
              "      <button class=\"colab-df-convert\" onclick=\"convertToInteractive('df-283bacf0-73f7-4b69-ae6f-e151ff02509b')\"\n",
              "              title=\"Convert this dataframe to an interactive table.\"\n",
              "              style=\"display:none;\">\n",
              "        \n",
              "  <svg xmlns=\"http://www.w3.org/2000/svg\" height=\"24px\"viewBox=\"0 0 24 24\"\n",
              "       width=\"24px\">\n",
              "    <path d=\"M0 0h24v24H0V0z\" fill=\"none\"/>\n",
              "    <path d=\"M18.56 5.44l.94 2.06.94-2.06 2.06-.94-2.06-.94-.94-2.06-.94 2.06-2.06.94zm-11 1L8.5 8.5l.94-2.06 2.06-.94-2.06-.94L8.5 2.5l-.94 2.06-2.06.94zm10 10l.94 2.06.94-2.06 2.06-.94-2.06-.94-.94-2.06-.94 2.06-2.06.94z\"/><path d=\"M17.41 7.96l-1.37-1.37c-.4-.4-.92-.59-1.43-.59-.52 0-1.04.2-1.43.59L10.3 9.45l-7.72 7.72c-.78.78-.78 2.05 0 2.83L4 21.41c.39.39.9.59 1.41.59.51 0 1.02-.2 1.41-.59l7.78-7.78 2.81-2.81c.8-.78.8-2.07 0-2.86zM5.41 20L4 18.59l7.72-7.72 1.47 1.35L5.41 20z\"/>\n",
              "  </svg>\n",
              "      </button>\n",
              "      \n",
              "  <style>\n",
              "    .colab-df-container {\n",
              "      display:flex;\n",
              "      flex-wrap:wrap;\n",
              "      gap: 12px;\n",
              "    }\n",
              "\n",
              "    .colab-df-convert {\n",
              "      background-color: #E8F0FE;\n",
              "      border: none;\n",
              "      border-radius: 50%;\n",
              "      cursor: pointer;\n",
              "      display: none;\n",
              "      fill: #1967D2;\n",
              "      height: 32px;\n",
              "      padding: 0 0 0 0;\n",
              "      width: 32px;\n",
              "    }\n",
              "\n",
              "    .colab-df-convert:hover {\n",
              "      background-color: #E2EBFA;\n",
              "      box-shadow: 0px 1px 2px rgba(60, 64, 67, 0.3), 0px 1px 3px 1px rgba(60, 64, 67, 0.15);\n",
              "      fill: #174EA6;\n",
              "    }\n",
              "\n",
              "    [theme=dark] .colab-df-convert {\n",
              "      background-color: #3B4455;\n",
              "      fill: #D2E3FC;\n",
              "    }\n",
              "\n",
              "    [theme=dark] .colab-df-convert:hover {\n",
              "      background-color: #434B5C;\n",
              "      box-shadow: 0px 1px 3px 1px rgba(0, 0, 0, 0.15);\n",
              "      filter: drop-shadow(0px 1px 2px rgba(0, 0, 0, 0.3));\n",
              "      fill: #FFFFFF;\n",
              "    }\n",
              "  </style>\n",
              "\n",
              "      <script>\n",
              "        const buttonEl =\n",
              "          document.querySelector('#df-283bacf0-73f7-4b69-ae6f-e151ff02509b button.colab-df-convert');\n",
              "        buttonEl.style.display =\n",
              "          google.colab.kernel.accessAllowed ? 'block' : 'none';\n",
              "\n",
              "        async function convertToInteractive(key) {\n",
              "          const element = document.querySelector('#df-283bacf0-73f7-4b69-ae6f-e151ff02509b');\n",
              "          const dataTable =\n",
              "            await google.colab.kernel.invokeFunction('convertToInteractive',\n",
              "                                                     [key], {});\n",
              "          if (!dataTable) return;\n",
              "\n",
              "          const docLinkHtml = 'Like what you see? Visit the ' +\n",
              "            '<a target=\"_blank\" href=https://colab.research.google.com/notebooks/data_table.ipynb>data table notebook</a>'\n",
              "            + ' to learn more about interactive tables.';\n",
              "          element.innerHTML = '';\n",
              "          dataTable['output_type'] = 'display_data';\n",
              "          await google.colab.output.renderOutput(dataTable, element);\n",
              "          const docLink = document.createElement('div');\n",
              "          docLink.innerHTML = docLinkHtml;\n",
              "          element.appendChild(docLink);\n",
              "        }\n",
              "      </script>\n",
              "    </div>\n",
              "  </div>\n",
              "  "
            ],
            "text/plain": [
              "   HeartDisease    BMI  Smoking  AlcoholDrinking  Stroke  DiffWalking     Sex  \\\n",
              "0             0  16.60        1                0       0            0  Female   \n",
              "1             0  20.34        0                0       1            0  Female   \n",
              "2             0  26.58        1                0       0            0    Male   \n",
              "3             0  24.21        0                0       0            0  Female   \n",
              "4             0  23.71        0                0       0            1  Female   \n",
              "\n",
              "   AgeCategory   Race  Diabetic  PhysicalActivity  GenHealth  SleepTime  \\\n",
              "0        55-59  White         1                 1  Very good        5.0   \n",
              "1  80 or older  White         0                 1  Very good        7.0   \n",
              "2        65-69  White         1                 1       Fair        8.0   \n",
              "3        75-79  White         0                 0       Good        6.0   \n",
              "4        40-44  White         0                 1  Very good        8.0   \n",
              "\n",
              "   Asthma  KidneyDisease  SkinCancer  \n",
              "0       1              0           1  \n",
              "1       0              0           0  \n",
              "2       1              0           0  \n",
              "3       0              0           1  \n",
              "4       0              0           0  "
            ]
          },
          "execution_count": 12,
          "metadata": {},
          "output_type": "execute_result"
        }
      ],
      "source": [
        "# Keep rows from the 'Diabetic' column that are only 'Yes' or 'No'\n",
        "df = df[(df['Diabetic'] == 'Yes') | (df['Diabetic'] == 'No')]\n",
        "\n",
        "# Keep rows where the average sleep is < 24 hours because 24 hours impossible\n",
        "df = df[df['SleepTime'] < 24.0]\n",
        "\n",
        "# Change all 'Yes' and 'No' values to 1 and 0 where 1 = True and 0 = False\n",
        "converted_bools = {'Yes': 1, 'No': 0}\n",
        "df.replace({'HeartDisease': converted_bools, \n",
        "                 'Smoking': converted_bools, \n",
        "                 'AlcoholDrinking': converted_bools,\n",
        "                 'Stroke': converted_bools,\n",
        "                 'DiffWalking': converted_bools,\n",
        "                 'Diabetic': converted_bools,\n",
        "                 'PhysicalActivity': converted_bools,\n",
        "                 'Asthma': converted_bools,\n",
        "                 'KidneyDisease': converted_bools,\n",
        "                 'SkinCancer': converted_bools,\n",
        "                 }, inplace=True)\n",
        "\n",
        "df.head()"
      ]
    },
    {
      "cell_type": "code",
      "execution_count": null,
      "metadata": {
        "colab": {
          "base_uri": "https://localhost:8080/"
        },
        "id": "CuGm-SZxGbtq",
        "outputId": "fe288a63-feb8-4d7b-ccae-ec420ad7e2d4"
      },
      "outputs": [
        {
          "data": {
            "text/plain": [
              "Senior        139910\n",
              "Middle Age     94942\n",
              "Adult          75574\n",
              "Name: AgeCategory, dtype: int64"
            ]
          },
          "execution_count": 13,
          "metadata": {},
          "output_type": "execute_result"
        }
      ],
      "source": [
        "#Reduce the number of categories from 13 to 3. Adult = 18-39. Middle Age = 40-59. Senior = 60 and up\n",
        "df.AgeCategory.replace(['18-24', '25-29', '30-34', '35-39', '40-44', '45-49', '50-54', '55-59', '60-64',\n",
        "                         '65-69', '70-74', '75-79', '80 or older'], ['Adult','Adult','Adult','Adult',\n",
        "                                                                     'Middle Age','Middle Age','Middle Age','Middle Age',\n",
        "                                                                     'Senior','Senior','Senior','Senior','Senior',], inplace=True)\n",
        "#Show the count of the 3 new categories\n",
        "df['AgeCategory'].value_counts()"
      ]
    },
    {
      "cell_type": "code",
      "execution_count": null,
      "metadata": {
        "colab": {
          "base_uri": "https://localhost:8080/",
          "height": 742
        },
        "id": "VUaFy8PUW3H9",
        "outputId": "9ed0632f-b986-4875-dcea-66f364a7d876"
      },
      "outputs": [
        {
          "name": "stderr",
          "output_type": "stream",
          "text": [
            "/usr/local/lib/python3.7/dist-packages/ipykernel_launcher.py:5: UserWarning: To output multiple subplots, the figure containing the passed axes is being cleared\n",
            "  \"\"\"\n"
          ]
        },
        {
          "data": {
            "image/png": "[encoded data removed]",
            "text/plain": [
              "<Figure size 1080x864 with 12 Axes>"
            ]
          },
          "metadata": {
            "needs_background": "light"
          },
          "output_type": "display_data"
        }
      ],
      "source": [
        "# Show the distribution of data \n",
        "\n",
        "fig = plt.figure(figsize=(15, 12))\n",
        "ax = fig.gca()\n",
        "df.hist(ax=ax);"
      ]
    },
    {
      "cell_type": "code",
      "execution_count": null,
      "metadata": {
        "colab": {
          "base_uri": "https://localhost:8080/",
          "height": 364
        },
        "id": "0ul3gOugZtgq",
        "outputId": "3f82770b-36e1-45fc-c87c-b5c8c8e27697"
      },
      "outputs": [
        {
          "data": {
            "text/html": [
              "\n",
              "  <div id=\"df-e1ca3aa7-9cfe-4195-bfc9-1927acb5078d\">\n",
              "    <div class=\"colab-df-container\">\n",
              "      <div>\n",
              "<style scoped>\n",
              "    .dataframe tbody tr th:only-of-type {\n",
              "        vertical-align: middle;\n",
              "    }\n",
              "\n",
              "    .dataframe tbody tr th {\n",
              "        vertical-align: top;\n",
              "    }\n",
              "\n",
              "    .dataframe thead th {\n",
              "        text-align: right;\n",
              "    }\n",
              "</style>\n",
              "<table border=\"1\" class=\"dataframe\">\n",
              "  <thead>\n",
              "    <tr style=\"text-align: right;\">\n",
              "      <th></th>\n",
              "      <th>HeartDisease</th>\n",
              "      <th>BMI</th>\n",
              "      <th>Smoking</th>\n",
              "      <th>AlcoholDrinking</th>\n",
              "      <th>Stroke</th>\n",
              "      <th>DiffWalking</th>\n",
              "      <th>Diabetic</th>\n",
              "      <th>PhysicalActivity</th>\n",
              "      <th>SleepTime</th>\n",
              "      <th>Asthma</th>\n",
              "      <th>KidneyDisease</th>\n",
              "      <th>SkinCancer</th>\n",
              "    </tr>\n",
              "  </thead>\n",
              "  <tbody>\n",
              "    <tr>\n",
              "      <th>count</th>\n",
              "      <td>310426.000000</td>\n",
              "      <td>310426.000000</td>\n",
              "      <td>310426.000000</td>\n",
              "      <td>310426.000000</td>\n",
              "      <td>310426.000000</td>\n",
              "      <td>310426.000000</td>\n",
              "      <td>310426.000000</td>\n",
              "      <td>310426.000000</td>\n",
              "      <td>310426.000000</td>\n",
              "      <td>310426.000000</td>\n",
              "      <td>310426.000000</td>\n",
              "      <td>310426.000000</td>\n",
              "    </tr>\n",
              "    <tr>\n",
              "      <th>mean</th>\n",
              "      <td>0.085270</td>\n",
              "      <td>28.273736</td>\n",
              "      <td>0.412205</td>\n",
              "      <td>0.068496</td>\n",
              "      <td>0.037500</td>\n",
              "      <td>0.137427</td>\n",
              "      <td>0.131413</td>\n",
              "      <td>0.776398</td>\n",
              "      <td>7.098516</td>\n",
              "      <td>0.132795</td>\n",
              "      <td>0.036775</td>\n",
              "      <td>0.093249</td>\n",
              "    </tr>\n",
              "    <tr>\n",
              "      <th>std</th>\n",
              "      <td>0.279283</td>\n",
              "      <td>6.327952</td>\n",
              "      <td>0.492232</td>\n",
              "      <td>0.252596</td>\n",
              "      <td>0.189984</td>\n",
              "      <td>0.344298</td>\n",
              "      <td>0.337852</td>\n",
              "      <td>0.416659</td>\n",
              "      <td>1.425073</td>\n",
              "      <td>0.339354</td>\n",
              "      <td>0.188210</td>\n",
              "      <td>0.290782</td>\n",
              "    </tr>\n",
              "    <tr>\n",
              "      <th>min</th>\n",
              "      <td>0.000000</td>\n",
              "      <td>12.020000</td>\n",
              "      <td>0.000000</td>\n",
              "      <td>0.000000</td>\n",
              "      <td>0.000000</td>\n",
              "      <td>0.000000</td>\n",
              "      <td>0.000000</td>\n",
              "      <td>0.000000</td>\n",
              "      <td>1.000000</td>\n",
              "      <td>0.000000</td>\n",
              "      <td>0.000000</td>\n",
              "      <td>0.000000</td>\n",
              "    </tr>\n",
              "    <tr>\n",
              "      <th>25%</th>\n",
              "      <td>0.000000</td>\n",
              "      <td>23.990000</td>\n",
              "      <td>0.000000</td>\n",
              "      <td>0.000000</td>\n",
              "      <td>0.000000</td>\n",
              "      <td>0.000000</td>\n",
              "      <td>0.000000</td>\n",
              "      <td>1.000000</td>\n",
              "      <td>6.000000</td>\n",
              "      <td>0.000000</td>\n",
              "      <td>0.000000</td>\n",
              "      <td>0.000000</td>\n",
              "    </tr>\n",
              "    <tr>\n",
              "      <th>50%</th>\n",
              "      <td>0.000000</td>\n",
              "      <td>27.280000</td>\n",
              "      <td>0.000000</td>\n",
              "      <td>0.000000</td>\n",
              "      <td>0.000000</td>\n",
              "      <td>0.000000</td>\n",
              "      <td>0.000000</td>\n",
              "      <td>1.000000</td>\n",
              "      <td>7.000000</td>\n",
              "      <td>0.000000</td>\n",
              "      <td>0.000000</td>\n",
              "      <td>0.000000</td>\n",
              "    </tr>\n",
              "    <tr>\n",
              "      <th>75%</th>\n",
              "      <td>0.000000</td>\n",
              "      <td>31.320000</td>\n",
              "      <td>1.000000</td>\n",
              "      <td>0.000000</td>\n",
              "      <td>0.000000</td>\n",
              "      <td>0.000000</td>\n",
              "      <td>0.000000</td>\n",
              "      <td>1.000000</td>\n",
              "      <td>8.000000</td>\n",
              "      <td>0.000000</td>\n",
              "      <td>0.000000</td>\n",
              "      <td>0.000000</td>\n",
              "    </tr>\n",
              "    <tr>\n",
              "      <th>max</th>\n",
              "      <td>1.000000</td>\n",
              "      <td>94.850000</td>\n",
              "      <td>1.000000</td>\n",
              "      <td>1.000000</td>\n",
              "      <td>1.000000</td>\n",
              "      <td>1.000000</td>\n",
              "      <td>1.000000</td>\n",
              "      <td>1.000000</td>\n",
              "      <td>23.000000</td>\n",
              "      <td>1.000000</td>\n",
              "      <td>1.000000</td>\n",
              "      <td>1.000000</td>\n",
              "    </tr>\n",
              "  </tbody>\n",
              "</table>\n",
              "</div>\n",
              "      <button class=\"colab-df-convert\" onclick=\"convertToInteractive('df-e1ca3aa7-9cfe-4195-bfc9-1927acb5078d')\"\n",
              "              title=\"Convert this dataframe to an interactive table.\"\n",
              "              style=\"display:none;\">\n",
              "        \n",
              "  <svg xmlns=\"http://www.w3.org/2000/svg\" height=\"24px\"viewBox=\"0 0 24 24\"\n",
              "       width=\"24px\">\n",
              "    <path d=\"M0 0h24v24H0V0z\" fill=\"none\"/>\n",
              "    <path d=\"M18.56 5.44l.94 2.06.94-2.06 2.06-.94-2.06-.94-.94-2.06-.94 2.06-2.06.94zm-11 1L8.5 8.5l.94-2.06 2.06-.94-2.06-.94L8.5 2.5l-.94 2.06-2.06.94zm10 10l.94 2.06.94-2.06 2.06-.94-2.06-.94-.94-2.06-.94 2.06-2.06.94z\"/><path d=\"M17.41 7.96l-1.37-1.37c-.4-.4-.92-.59-1.43-.59-.52 0-1.04.2-1.43.59L10.3 9.45l-7.72 7.72c-.78.78-.78 2.05 0 2.83L4 21.41c.39.39.9.59 1.41.59.51 0 1.02-.2 1.41-.59l7.78-7.78 2.81-2.81c.8-.78.8-2.07 0-2.86zM5.41 20L4 18.59l7.72-7.72 1.47 1.35L5.41 20z\"/>\n",
              "  </svg>\n",
              "      </button>\n",
              "      \n",
              "  <style>\n",
              "    .colab-df-container {\n",
              "      display:flex;\n",
              "      flex-wrap:wrap;\n",
              "      gap: 12px;\n",
              "    }\n",
              "\n",
              "    .colab-df-convert {\n",
              "      background-color: #E8F0FE;\n",
              "      border: none;\n",
              "      border-radius: 50%;\n",
              "      cursor: pointer;\n",
              "      display: none;\n",
              "      fill: #1967D2;\n",
              "      height: 32px;\n",
              "      padding: 0 0 0 0;\n",
              "      width: 32px;\n",
              "    }\n",
              "\n",
              "    .colab-df-convert:hover {\n",
              "      background-color: #E2EBFA;\n",
              "      box-shadow: 0px 1px 2px rgba(60, 64, 67, 0.3), 0px 1px 3px 1px rgba(60, 64, 67, 0.15);\n",
              "      fill: #174EA6;\n",
              "    }\n",
              "\n",
              "    [theme=dark] .colab-df-convert {\n",
              "      background-color: #3B4455;\n",
              "      fill: #D2E3FC;\n",
              "    }\n",
              "\n",
              "    [theme=dark] .colab-df-convert:hover {\n",
              "      background-color: #434B5C;\n",
              "      box-shadow: 0px 1px 3px 1px rgba(0, 0, 0, 0.15);\n",
              "      filter: drop-shadow(0px 1px 2px rgba(0, 0, 0, 0.3));\n",
              "      fill: #FFFFFF;\n",
              "    }\n",
              "  </style>\n",
              "\n",
              "      <script>\n",
              "        const buttonEl =\n",
              "          document.querySelector('#df-e1ca3aa7-9cfe-4195-bfc9-1927acb5078d button.colab-df-convert');\n",
              "        buttonEl.style.display =\n",
              "          google.colab.kernel.accessAllowed ? 'block' : 'none';\n",
              "\n",
              "        async function convertToInteractive(key) {\n",
              "          const element = document.querySelector('#df-e1ca3aa7-9cfe-4195-bfc9-1927acb5078d');\n",
              "          const dataTable =\n",
              "            await google.colab.kernel.invokeFunction('convertToInteractive',\n",
              "                                                     [key], {});\n",
              "          if (!dataTable) return;\n",
              "\n",
              "          const docLinkHtml = 'Like what you see? Visit the ' +\n",
              "            '<a target=\"_blank\" href=https://colab.research.google.com/notebooks/data_table.ipynb>data table notebook</a>'\n",
              "            + ' to learn more about interactive tables.';\n",
              "          element.innerHTML = '';\n",
              "          dataTable['output_type'] = 'display_data';\n",
              "          await google.colab.output.renderOutput(dataTable, element);\n",
              "          const docLink = document.createElement('div');\n",
              "          docLink.innerHTML = docLinkHtml;\n",
              "          element.appendChild(docLink);\n",
              "        }\n",
              "      </script>\n",
              "    </div>\n",
              "  </div>\n",
              "  "
            ],
            "text/plain": [
              "        HeartDisease            BMI        Smoking  AlcoholDrinking  \\\n",
              "count  310426.000000  310426.000000  310426.000000    310426.000000   \n",
              "mean        0.085270      28.273736       0.412205         0.068496   \n",
              "std         0.279283       6.327952       0.492232         0.252596   \n",
              "min         0.000000      12.020000       0.000000         0.000000   \n",
              "25%         0.000000      23.990000       0.000000         0.000000   \n",
              "50%         0.000000      27.280000       0.000000         0.000000   \n",
              "75%         0.000000      31.320000       1.000000         0.000000   \n",
              "max         1.000000      94.850000       1.000000         1.000000   \n",
              "\n",
              "              Stroke    DiffWalking       Diabetic  PhysicalActivity  \\\n",
              "count  310426.000000  310426.000000  310426.000000     310426.000000   \n",
              "mean        0.037500       0.137427       0.131413          0.776398   \n",
              "std         0.189984       0.344298       0.337852          0.416659   \n",
              "min         0.000000       0.000000       0.000000          0.000000   \n",
              "25%         0.000000       0.000000       0.000000          1.000000   \n",
              "50%         0.000000       0.000000       0.000000          1.000000   \n",
              "75%         0.000000       0.000000       0.000000          1.000000   \n",
              "max         1.000000       1.000000       1.000000          1.000000   \n",
              "\n",
              "           SleepTime         Asthma  KidneyDisease     SkinCancer  \n",
              "count  310426.000000  310426.000000  310426.000000  310426.000000  \n",
              "mean        7.098516       0.132795       0.036775       0.093249  \n",
              "std         1.425073       0.339354       0.188210       0.290782  \n",
              "min         1.000000       0.000000       0.000000       0.000000  \n",
              "25%         6.000000       0.000000       0.000000       0.000000  \n",
              "50%         7.000000       0.000000       0.000000       0.000000  \n",
              "75%         8.000000       0.000000       0.000000       0.000000  \n",
              "max        23.000000       1.000000       1.000000       1.000000  "
            ]
          },
          "execution_count": 15,
          "metadata": {},
          "output_type": "execute_result"
        }
      ],
      "source": [
        "df.describe() # Some useful info about columns after transforming"
      ]
    },
    {
      "cell_type": "code",
      "execution_count": null,
      "metadata": {
        "colab": {
          "base_uri": "https://localhost:8080/",
          "height": 488
        },
        "id": "ry-wrvhLHKnh",
        "outputId": "ea27f5ee-03fc-46a3-e92c-0f18db3a0696"
      },
      "outputs": [
        {
          "data": {
            "text/html": [
              "\n",
              "  <div id=\"df-dec57d09-b998-4e5e-a135-a63970315bdb\">\n",
              "    <div class=\"colab-df-container\">\n",
              "      <div>\n",
              "<style scoped>\n",
              "    .dataframe tbody tr th:only-of-type {\n",
              "        vertical-align: middle;\n",
              "    }\n",
              "\n",
              "    .dataframe tbody tr th {\n",
              "        vertical-align: top;\n",
              "    }\n",
              "\n",
              "    .dataframe thead th {\n",
              "        text-align: right;\n",
              "    }\n",
              "</style>\n",
              "<table border=\"1\" class=\"dataframe\">\n",
              "  <thead>\n",
              "    <tr style=\"text-align: right;\">\n",
              "      <th></th>\n",
              "      <th>HeartDisease</th>\n",
              "      <th>BMI</th>\n",
              "      <th>Smoking</th>\n",
              "      <th>AlcoholDrinking</th>\n",
              "      <th>Stroke</th>\n",
              "      <th>DiffWalking</th>\n",
              "      <th>Sex</th>\n",
              "      <th>AgeCategory</th>\n",
              "      <th>Race</th>\n",
              "      <th>Diabetic</th>\n",
              "      <th>PhysicalActivity</th>\n",
              "      <th>GenHealth</th>\n",
              "      <th>SleepTime</th>\n",
              "      <th>Asthma</th>\n",
              "      <th>KidneyDisease</th>\n",
              "      <th>SkinCancer</th>\n",
              "    </tr>\n",
              "  </thead>\n",
              "  <tbody>\n",
              "    <tr>\n",
              "      <th>0</th>\n",
              "      <td>0</td>\n",
              "      <td>16.60</td>\n",
              "      <td>1</td>\n",
              "      <td>0</td>\n",
              "      <td>0</td>\n",
              "      <td>0</td>\n",
              "      <td>Female</td>\n",
              "      <td>Middle Age</td>\n",
              "      <td>White</td>\n",
              "      <td>1</td>\n",
              "      <td>1</td>\n",
              "      <td>Very good</td>\n",
              "      <td>5.0</td>\n",
              "      <td>1</td>\n",
              "      <td>0</td>\n",
              "      <td>1</td>\n",
              "    </tr>\n",
              "    <tr>\n",
              "      <th>1</th>\n",
              "      <td>0</td>\n",
              "      <td>20.34</td>\n",
              "      <td>0</td>\n",
              "      <td>0</td>\n",
              "      <td>1</td>\n",
              "      <td>0</td>\n",
              "      <td>Female</td>\n",
              "      <td>Senior</td>\n",
              "      <td>White</td>\n",
              "      <td>0</td>\n",
              "      <td>1</td>\n",
              "      <td>Very good</td>\n",
              "      <td>7.0</td>\n",
              "      <td>0</td>\n",
              "      <td>0</td>\n",
              "      <td>0</td>\n",
              "    </tr>\n",
              "    <tr>\n",
              "      <th>2</th>\n",
              "      <td>0</td>\n",
              "      <td>26.58</td>\n",
              "      <td>1</td>\n",
              "      <td>0</td>\n",
              "      <td>0</td>\n",
              "      <td>0</td>\n",
              "      <td>Male</td>\n",
              "      <td>Senior</td>\n",
              "      <td>White</td>\n",
              "      <td>1</td>\n",
              "      <td>1</td>\n",
              "      <td>Fair</td>\n",
              "      <td>8.0</td>\n",
              "      <td>1</td>\n",
              "      <td>0</td>\n",
              "      <td>0</td>\n",
              "    </tr>\n",
              "    <tr>\n",
              "      <th>3</th>\n",
              "      <td>0</td>\n",
              "      <td>24.21</td>\n",
              "      <td>0</td>\n",
              "      <td>0</td>\n",
              "      <td>0</td>\n",
              "      <td>0</td>\n",
              "      <td>Female</td>\n",
              "      <td>Senior</td>\n",
              "      <td>White</td>\n",
              "      <td>0</td>\n",
              "      <td>0</td>\n",
              "      <td>Good</td>\n",
              "      <td>6.0</td>\n",
              "      <td>0</td>\n",
              "      <td>0</td>\n",
              "      <td>1</td>\n",
              "    </tr>\n",
              "    <tr>\n",
              "      <th>4</th>\n",
              "      <td>0</td>\n",
              "      <td>23.71</td>\n",
              "      <td>0</td>\n",
              "      <td>0</td>\n",
              "      <td>0</td>\n",
              "      <td>1</td>\n",
              "      <td>Female</td>\n",
              "      <td>Middle Age</td>\n",
              "      <td>White</td>\n",
              "      <td>0</td>\n",
              "      <td>1</td>\n",
              "      <td>Very good</td>\n",
              "      <td>8.0</td>\n",
              "      <td>0</td>\n",
              "      <td>0</td>\n",
              "      <td>0</td>\n",
              "    </tr>\n",
              "    <tr>\n",
              "      <th>...</th>\n",
              "      <td>...</td>\n",
              "      <td>...</td>\n",
              "      <td>...</td>\n",
              "      <td>...</td>\n",
              "      <td>...</td>\n",
              "      <td>...</td>\n",
              "      <td>...</td>\n",
              "      <td>...</td>\n",
              "      <td>...</td>\n",
              "      <td>...</td>\n",
              "      <td>...</td>\n",
              "      <td>...</td>\n",
              "      <td>...</td>\n",
              "      <td>...</td>\n",
              "      <td>...</td>\n",
              "      <td>...</td>\n",
              "    </tr>\n",
              "    <tr>\n",
              "      <th>319790</th>\n",
              "      <td>1</td>\n",
              "      <td>27.41</td>\n",
              "      <td>1</td>\n",
              "      <td>0</td>\n",
              "      <td>0</td>\n",
              "      <td>1</td>\n",
              "      <td>Male</td>\n",
              "      <td>Senior</td>\n",
              "      <td>Hispanic</td>\n",
              "      <td>1</td>\n",
              "      <td>0</td>\n",
              "      <td>Fair</td>\n",
              "      <td>6.0</td>\n",
              "      <td>1</td>\n",
              "      <td>0</td>\n",
              "      <td>0</td>\n",
              "    </tr>\n",
              "    <tr>\n",
              "      <th>319791</th>\n",
              "      <td>0</td>\n",
              "      <td>29.84</td>\n",
              "      <td>1</td>\n",
              "      <td>0</td>\n",
              "      <td>0</td>\n",
              "      <td>0</td>\n",
              "      <td>Male</td>\n",
              "      <td>Adult</td>\n",
              "      <td>Hispanic</td>\n",
              "      <td>0</td>\n",
              "      <td>1</td>\n",
              "      <td>Very good</td>\n",
              "      <td>5.0</td>\n",
              "      <td>1</td>\n",
              "      <td>0</td>\n",
              "      <td>0</td>\n",
              "    </tr>\n",
              "    <tr>\n",
              "      <th>319792</th>\n",
              "      <td>0</td>\n",
              "      <td>24.24</td>\n",
              "      <td>0</td>\n",
              "      <td>0</td>\n",
              "      <td>0</td>\n",
              "      <td>0</td>\n",
              "      <td>Female</td>\n",
              "      <td>Middle Age</td>\n",
              "      <td>Hispanic</td>\n",
              "      <td>0</td>\n",
              "      <td>1</td>\n",
              "      <td>Good</td>\n",
              "      <td>6.0</td>\n",
              "      <td>0</td>\n",
              "      <td>0</td>\n",
              "      <td>0</td>\n",
              "    </tr>\n",
              "    <tr>\n",
              "      <th>319793</th>\n",
              "      <td>0</td>\n",
              "      <td>32.81</td>\n",
              "      <td>0</td>\n",
              "      <td>0</td>\n",
              "      <td>0</td>\n",
              "      <td>0</td>\n",
              "      <td>Female</td>\n",
              "      <td>Adult</td>\n",
              "      <td>Hispanic</td>\n",
              "      <td>0</td>\n",
              "      <td>0</td>\n",
              "      <td>Good</td>\n",
              "      <td>12.0</td>\n",
              "      <td>0</td>\n",
              "      <td>0</td>\n",
              "      <td>0</td>\n",
              "    </tr>\n",
              "    <tr>\n",
              "      <th>319794</th>\n",
              "      <td>0</td>\n",
              "      <td>46.56</td>\n",
              "      <td>0</td>\n",
              "      <td>0</td>\n",
              "      <td>0</td>\n",
              "      <td>0</td>\n",
              "      <td>Female</td>\n",
              "      <td>Senior</td>\n",
              "      <td>Hispanic</td>\n",
              "      <td>0</td>\n",
              "      <td>1</td>\n",
              "      <td>Good</td>\n",
              "      <td>8.0</td>\n",
              "      <td>0</td>\n",
              "      <td>0</td>\n",
              "      <td>0</td>\n",
              "    </tr>\n",
              "  </tbody>\n",
              "</table>\n",
              "<p>310426 rows × 16 columns</p>\n",
              "</div>\n",
              "      <button class=\"colab-df-convert\" onclick=\"convertToInteractive('df-dec57d09-b998-4e5e-a135-a63970315bdb')\"\n",
              "              title=\"Convert this dataframe to an interactive table.\"\n",
              "              style=\"display:none;\">\n",
              "        \n",
              "  <svg xmlns=\"http://www.w3.org/2000/svg\" height=\"24px\"viewBox=\"0 0 24 24\"\n",
              "       width=\"24px\">\n",
              "    <path d=\"M0 0h24v24H0V0z\" fill=\"none\"/>\n",
              "    <path d=\"M18.56 5.44l.94 2.06.94-2.06 2.06-.94-2.06-.94-.94-2.06-.94 2.06-2.06.94zm-11 1L8.5 8.5l.94-2.06 2.06-.94-2.06-.94L8.5 2.5l-.94 2.06-2.06.94zm10 10l.94 2.06.94-2.06 2.06-.94-2.06-.94-.94-2.06-.94 2.06-2.06.94z\"/><path d=\"M17.41 7.96l-1.37-1.37c-.4-.4-.92-.59-1.43-.59-.52 0-1.04.2-1.43.59L10.3 9.45l-7.72 7.72c-.78.78-.78 2.05 0 2.83L4 21.41c.39.39.9.59 1.41.59.51 0 1.02-.2 1.41-.59l7.78-7.78 2.81-2.81c.8-.78.8-2.07 0-2.86zM5.41 20L4 18.59l7.72-7.72 1.47 1.35L5.41 20z\"/>\n",
              "  </svg>\n",
              "      </button>\n",
              "      \n",
              "  <style>\n",
              "    .colab-df-container {\n",
              "      display:flex;\n",
              "      flex-wrap:wrap;\n",
              "      gap: 12px;\n",
              "    }\n",
              "\n",
              "    .colab-df-convert {\n",
              "      background-color: #E8F0FE;\n",
              "      border: none;\n",
              "      border-radius: 50%;\n",
              "      cursor: pointer;\n",
              "      display: none;\n",
              "      fill: #1967D2;\n",
              "      height: 32px;\n",
              "      padding: 0 0 0 0;\n",
              "      width: 32px;\n",
              "    }\n",
              "\n",
              "    .colab-df-convert:hover {\n",
              "      background-color: #E2EBFA;\n",
              "      box-shadow: 0px 1px 2px rgba(60, 64, 67, 0.3), 0px 1px 3px 1px rgba(60, 64, 67, 0.15);\n",
              "      fill: #174EA6;\n",
              "    }\n",
              "\n",
              "    [theme=dark] .colab-df-convert {\n",
              "      background-color: #3B4455;\n",
              "      fill: #D2E3FC;\n",
              "    }\n",
              "\n",
              "    [theme=dark] .colab-df-convert:hover {\n",
              "      background-color: #434B5C;\n",
              "      box-shadow: 0px 1px 3px 1px rgba(0, 0, 0, 0.15);\n",
              "      filter: drop-shadow(0px 1px 2px rgba(0, 0, 0, 0.3));\n",
              "      fill: #FFFFFF;\n",
              "    }\n",
              "  </style>\n",
              "\n",
              "      <script>\n",
              "        const buttonEl =\n",
              "          document.querySelector('#df-dec57d09-b998-4e5e-a135-a63970315bdb button.colab-df-convert');\n",
              "        buttonEl.style.display =\n",
              "          google.colab.kernel.accessAllowed ? 'block' : 'none';\n",
              "\n",
              "        async function convertToInteractive(key) {\n",
              "          const element = document.querySelector('#df-dec57d09-b998-4e5e-a135-a63970315bdb');\n",
              "          const dataTable =\n",
              "            await google.colab.kernel.invokeFunction('convertToInteractive',\n",
              "                                                     [key], {});\n",
              "          if (!dataTable) return;\n",
              "\n",
              "          const docLinkHtml = 'Like what you see? Visit the ' +\n",
              "            '<a target=\"_blank\" href=https://colab.research.google.com/notebooks/data_table.ipynb>data table notebook</a>'\n",
              "            + ' to learn more about interactive tables.';\n",
              "          element.innerHTML = '';\n",
              "          dataTable['output_type'] = 'display_data';\n",
              "          await google.colab.output.renderOutput(dataTable, element);\n",
              "          const docLink = document.createElement('div');\n",
              "          docLink.innerHTML = docLinkHtml;\n",
              "          element.appendChild(docLink);\n",
              "        }\n",
              "      </script>\n",
              "    </div>\n",
              "  </div>\n",
              "  "
            ],
            "text/plain": [
              "        HeartDisease    BMI  Smoking  AlcoholDrinking  Stroke  DiffWalking  \\\n",
              "0                  0  16.60        1                0       0            0   \n",
              "1                  0  20.34        0                0       1            0   \n",
              "2                  0  26.58        1                0       0            0   \n",
              "3                  0  24.21        0                0       0            0   \n",
              "4                  0  23.71        0                0       0            1   \n",
              "...              ...    ...      ...              ...     ...          ...   \n",
              "319790             1  27.41        1                0       0            1   \n",
              "319791             0  29.84        1                0       0            0   \n",
              "319792             0  24.24        0                0       0            0   \n",
              "319793             0  32.81        0                0       0            0   \n",
              "319794             0  46.56        0                0       0            0   \n",
              "\n",
              "           Sex AgeCategory      Race  Diabetic  PhysicalActivity  GenHealth  \\\n",
              "0       Female  Middle Age     White         1                 1  Very good   \n",
              "1       Female      Senior     White         0                 1  Very good   \n",
              "2         Male      Senior     White         1                 1       Fair   \n",
              "3       Female      Senior     White         0                 0       Good   \n",
              "4       Female  Middle Age     White         0                 1  Very good   \n",
              "...        ...         ...       ...       ...               ...        ...   \n",
              "319790    Male      Senior  Hispanic         1                 0       Fair   \n",
              "319791    Male       Adult  Hispanic         0                 1  Very good   \n",
              "319792  Female  Middle Age  Hispanic         0                 1       Good   \n",
              "319793  Female       Adult  Hispanic         0                 0       Good   \n",
              "319794  Female      Senior  Hispanic         0                 1       Good   \n",
              "\n",
              "        SleepTime  Asthma  KidneyDisease  SkinCancer  \n",
              "0             5.0       1              0           1  \n",
              "1             7.0       0              0           0  \n",
              "2             8.0       1              0           0  \n",
              "3             6.0       0              0           1  \n",
              "4             8.0       0              0           0  \n",
              "...           ...     ...            ...         ...  \n",
              "319790        6.0       1              0           0  \n",
              "319791        5.0       1              0           0  \n",
              "319792        6.0       0              0           0  \n",
              "319793       12.0       0              0           0  \n",
              "319794        8.0       0              0           0  \n",
              "\n",
              "[310426 rows x 16 columns]"
            ]
          },
          "execution_count": 16,
          "metadata": {},
          "output_type": "execute_result"
        }
      ],
      "source": [
        "#Show the # of Variables and Observations\n",
        "df"
      ]
    },
    {
      "cell_type": "markdown",
      "metadata": {
        "id": "tw14M8c7ROWJ"
      },
      "source": [
        "# Proposed Solution\n",
        "\n",
        "Our team will be running a logistic regression and a random decision forest. Logistic regression models the probability of discrete outcomes and is useful for classification tasks. We will be classifying the 18 variables to 'yes' or 'no' to predict the major factors that influence heart disease. The other algorithm we will be running is random decision forest, which is made up of many individual decision trees. Each individual tree in the random forest represents a variable and outputs a class prediction. The variable that ends up with the most votes will be our model’s prediction and the most significant factor that leads to heart disease."
      ]
    },
    {
      "cell_type": "markdown",
      "metadata": {
        "id": "RMupkdSHKWZ8"
      },
      "source": [
        "We decided to remove the 'PhysicalHealth' and 'MentalHealth' columns because they were the number of days an individual felt like their physical and mental health was not good. This could be due to a variety of factors that are not all included as columns in our data set. We decided to keep 'GenHealth' as it was a more useful representation of an individual's health due to it being a categorical variable on a likert scale. We can categorize individuals under a certain health category.\n",
        "\n",
        "We removed rows from the 'Diabetic' column because some rows contained a conditional 'Yes' or 'No', meaning it contained individuals who were borderline diabetic or diabetic when pregnant. We removed them because keeping certain rows could have unintentionally skewed other variables such as an individual's BMI. We also removed some rows where individuals recorded their average 'SleepTime' to be 24 hours which should be impossible."
      ]
    },
    {
      "cell_type": "markdown",
      "metadata": {
        "id": "cc4PxMTJROWK"
      },
      "source": [
        "# Evaluation Metrics\n",
        "\n",
        "Our team will use precision as our evaluation metric. Because heart disease is a condition that endangers lives, using precision would reduce false negatives, decreasing the chance of a patient with heart disease to have a negative result. However, increasing precision would decrease recall, increasing the number of False Positives (the chance a patient without heart disease has a positive result). Precision is calculated by dividing the sum of the True Positives by the sum of the Predicted Conditions that are positive (True Positives + False Positives).\n",
        "\n",
        "Another evaluation metric our team can use is the F1 score. The F1 score would take into account both precision and recall to reduce both false positives and false negatives. It is calculated by dividing the True Positives / True Positives + 0.5(False Positives + False Negatives)."
      ]
    },
    {
      "cell_type": "markdown",
      "metadata": {
        "id": "eP9n3t-sP5IG"
      },
      "source": [
        "# Preliminary results"
      ]
    },
    {
      "cell_type": "markdown",
      "metadata": {
        "id": "H0WbZVeN0pZP"
      },
      "source": [
        "### Looking more into the correlation between Heart Disease and BMI "
      ]
    },
    {
      "cell_type": "code",
      "execution_count": null,
      "metadata": {
        "colab": {
          "base_uri": "https://localhost:8080/",
          "height": 279
        },
        "id": "xuMusuNN0owg",
        "outputId": "cc0f7ba4-7f72-412d-c31c-ce5fb7fd3df7"
      },
      "outputs": [
        {
          "data": {
            "image/png": "[encoded data removed]",
            "text/plain": [
              "<Figure size 432x288 with 1 Axes>"
            ]
          },
          "metadata": {
            "needs_background": "light"
          },
          "output_type": "display_data"
        }
      ],
      "source": [
        "import matplotlib\n",
        "import seaborn as sns \n",
        "\n",
        "sns.histplot(df[df['HeartDisease']==0], x=\"BMI\", kde=True, color=\"cornflowerblue\");\n",
        "sns.histplot(df[df['HeartDisease']==1], x=\"BMI\", kde=True, color=\"lightgreen\");"
      ]
    },
    {
      "cell_type": "code",
      "execution_count": null,
      "metadata": {
        "colab": {
          "base_uri": "https://localhost:8080/",
          "height": 334
        },
        "id": "g_pHXOb30sWC",
        "outputId": "b92e9100-7568-495c-fa09-ba498fa4eabd"
      },
      "outputs": [
        {
          "data": {
            "image/png": "[encoded data removed]",
            "text/plain": [
              "<Figure size 720x360 with 2 Axes>"
            ]
          },
          "metadata": {
            "needs_background": "light"
          },
          "output_type": "display_data"
        }
      ],
      "source": [
        "fig, axes = plt.subplots(2, 1, figsize=(10, 5), sharey=True)\n",
        "sns.boxplot(x=df[df['HeartDisease']==1][\"BMI\"], ax = axes[0], color=\"lightgreen\")\n",
        "sns.boxplot(x=df[df['HeartDisease']==0][\"BMI\"], ax = axes[1], color=\"cornflowerblue\");"
      ]
    },
    {
      "cell_type": "markdown",
      "metadata": {
        "id": "vsBZ14Ku0v5x"
      },
      "source": [
        "It seems like the BMI of people with heart disease tends to be high than the BMI of peopl without heart disease. However, there is still a bit of overlap."
      ]
    },
    {
      "cell_type": "markdown",
      "metadata": {
        "id": "-6i1hbuk0waX"
      },
      "source": [
        "### Looking more into the correlation between Heart Disease and Smoking "
      ]
    },
    {
      "cell_type": "code",
      "execution_count": null,
      "metadata": {
        "colab": {
          "base_uri": "https://localhost:8080/",
          "height": 279
        },
        "id": "g8-_TsYa00Vm",
        "outputId": "5258d6bf-41c1-40d3-c1be-b2d936816724"
      },
      "outputs": [
        {
          "data": {
            "image/png": "[encoded data removed]",
            "text/plain": [
              "<Figure size 432x288 with 1 Axes>"
            ]
          },
          "metadata": {
            "needs_background": "light"
          },
          "output_type": "display_data"
        }
      ],
      "source": [
        "import numpy as np\n",
        "\n",
        "# Plot the graph\n",
        "plt.hist(df[df[\"HeartDisease\"]==0][\"Smoking\"], bins=3, alpha=0.5, color=\"lightgreen\", label=\"No Heart Disease\");\n",
        "plt.hist(df[df[\"HeartDisease\"]==1][\"Smoking\"], bins=3, alpha=0.5, color=\"cornflowerblue\", label=\"Heart Disease\");\n",
        "\n",
        "# Add labels to x and y axis\n",
        "plt.xlabel(\"Smoking\")\n",
        "plt.ylabel(\"Frequency\")\n",
        "\n",
        "# Change the x axis labels\n",
        "bars = ('No', 'Yes')\n",
        "y_pos = np.arange(len(bars))\n",
        "plt.xticks(y_pos, bars)\n",
        "plt.legend()\n",
        "plt.show()"
      ]
    },
    {
      "cell_type": "markdown",
      "metadata": {
        "id": "7i8qO2nG1ppa"
      },
      "source": [
        "It seems like out of the people who do have heart disease, more of them smoke than not. "
      ]
    },
    {
      "cell_type": "markdown",
      "metadata": {
        "id": "uyz5UXPv8VDq"
      },
      "source": [
        "### Looking more into the correlation between Heart Disease and Age "
      ]
    },
    {
      "cell_type": "code",
      "execution_count": null,
      "metadata": {
        "colab": {
          "base_uri": "https://localhost:8080/",
          "height": 279
        },
        "id": "yx1EnUpX6BhL",
        "outputId": "9361aaa2-8346-45b0-8cf4-4199acf036ba"
      },
      "outputs": [
        {
          "data": {
            "image/png": "[encoded data removed]",
            "text/plain": [
              "<Figure size 432x288 with 1 Axes>"
            ]
          },
          "metadata": {
            "needs_background": "light"
          },
          "output_type": "display_data"
        }
      ],
      "source": [
        "# Plot the graph\n",
        "plt.hist(df[df[\"HeartDisease\"]==0][\"AgeCategory\"], bins=5, alpha=0.5, color=\"cornflowerblue\", label=\"No Heart Disease\");\n",
        "plt.hist(df[df[\"HeartDisease\"]==1][\"AgeCategory\"], bins=5, alpha=0.5, color=\"lightgreen\", label=\"Heart Disease\");\n",
        "\n",
        "# Add labels to x and y axis\n",
        "plt.xlabel(\"AgeCategory\")\n",
        "plt.ylabel(\"Frequency\")\n",
        "\n",
        "# Change the x axis labels\n",
        "bars = ('Adult', 'Middle Age', 'Senior')\n",
        "y_pos = np.arange(len(bars))\n",
        "plt.xticks(y_pos, bars)\n",
        "plt.legend()\n",
        "plt.show()"
      ]
    },
    {
      "cell_type": "markdown",
      "metadata": {
        "id": "RZW5NB_88dpT"
      },
      "source": [
        "It seems like people who are Middle Aged (40-59) have a higher tendency to develop heart disease. Then Adults (18-39) are next likely and Seniors (60+) are least likely."
      ]
    },
    {
      "cell_type": "markdown",
      "metadata": {
        "id": "kQQWy18A8X0_"
      },
      "source": [
        "### Looking more into the correlation between Heart Disease and Sex "
      ]
    },
    {
      "cell_type": "code",
      "execution_count": null,
      "metadata": {
        "colab": {
          "base_uri": "https://localhost:8080/",
          "height": 279
        },
        "id": "NNdbcNoz7F_a",
        "outputId": "24cc8f19-8443-4300-80a4-c357adc73bb8"
      },
      "outputs": [
        {
          "data": {
            "image/png": "[encoded data removed]",
            "text/plain": [
              "<Figure size 432x288 with 1 Axes>"
            ]
          },
          "metadata": {
            "needs_background": "light"
          },
          "output_type": "display_data"
        }
      ],
      "source": [
        "plt.hist(df[df[\"HeartDisease\"]==0][\"Sex\"], bins=3, alpha=0.5, color=\"cornflowerblue\", label=\"No Heart Disease\");\n",
        "plt.hist(df[df[\"HeartDisease\"]==1][\"Sex\"], bins=3, alpha=0.5, color=\"lightgreen\", label=\"Heart Disease\");\n",
        "\n",
        "# Add labels to x and y axis\n",
        "plt.xlabel(\"Sex\")\n",
        "plt.ylabel(\"Frequency\")\n",
        "\n",
        "# Change the x axis labels\n",
        "bars = ('Female', 'Male')\n",
        "y_pos = np.arange(len(bars))\n",
        "plt.xticks(y_pos, bars)\n",
        "plt.legend()\n",
        "plt.show()"
      ]
    },
    {
      "cell_type": "markdown",
      "metadata": {
        "id": "lxgUJYjf9Dy6"
      },
      "source": [
        "It seems like Males are more likely to contract heart disease than Females."
      ]
    },
    {
      "cell_type": "markdown",
      "metadata": {
        "id": "a5zY4nQHROWK"
      },
      "source": [
        "# Ethics & Privacy"
      ]
    },
    {
      "cell_type": "markdown",
      "metadata": {
        "id": "Hxa4EId_ROWK"
      },
      "source": [
        "If your project has obvious potential concerns with ethics or data privacy discuss that here.  Almost every ML project put into production can have ethical implications if you use your imagination. Use your imagination.\n",
        "\n",
        "Even if you can't come up with an obvious ethical concern that should be addressed, you should know that a large number of ML projects that go into producation have unintended consequences and ethical problems once in production. How will your team address these issues?\n",
        "\n",
        "Consider a tool to help you address the potential issues such as https://deon.drivendata.org"
      ]
    },
    {
      "cell_type": "markdown",
      "metadata": {
        "id": "gr5rYmvktSu3"
      },
      "source": [
        "The dataset utilized in this project relates to patient’s medical history with heart disease. Therefore, it is important that there is no way to tie a particular data point to any one individual, so it is anonymized. In terms of bias, one thing we do want to watch out for is to make sure that all the states in United States are represented in the dataset as to prevent bias, such as how differences in lifestyles in different states could impact risk for heart disease. To get a representative figure for each state, we consider the states as a whole, taking into account all of the regions as one. In order to address these concerns in bias, we have used a dataset from Kaggle that was originally from the CDC as part of the Behavioral Risk Factor Surveillance System (BRFSS). CDC states that BRFSS  collects data in all 50 states as well as the District of Columbia and three U.S. territories. The dataset also includes over 300,000 survey responses. As a result we can ensuring that a large majority of the regions in the United States could be represented in this study.\n",
        "\n",
        "Overall, the data we use for this project has been collected fairly and passes our privacy considerations. In terms of intent, the purpose of this project is to discover possible correlations between participant lifestyles and risk for heart disease, without any goal to implicate or harm any individuals. Due to the fact that our data is anonymized, this project cannot be used to single out or direct harm to an individual. At its base, this project just offers an unbiased study on a prediction model for heart disease. "
      ]
    },
    {
      "cell_type": "markdown",
      "metadata": {
        "id": "-7IBXVIgROWK"
      },
      "source": [
        "# Team Expectations "
      ]
    },
    {
      "cell_type": "markdown",
      "metadata": {
        "id": "TIWx1klfROWL"
      },
      "source": [
        "* *Fair amount of work distributed across each member of the group*\n",
        "* *Make sure everyone is in the loop about what's happening*\n",
        "* *If confused, reach out for help*\n",
        "* *Try to get things done early*\n",
        "* *COMMUNICATE! Communication is key and can solve alot of problems from even occuring*"
      ]
    },
    {
      "cell_type": "markdown",
      "metadata": {
        "id": "V0bcVvnnROWL"
      },
      "source": [
        "# Project Timeline Proposal"
      ]
    },
    {
      "cell_type": "markdown",
      "metadata": {
        "id": "fru2qdYLROWL"
      },
      "source": [
        "\n",
        "| Meeting Date  | Meeting Time| Discuss at Meeting  | IGNORE |\n",
        "|---|---|---|---|\n",
        "| 4/28  |  1 PM |Determine best form of communication; Discuss and decide on final project methods;| \n",
        "| 4/29  |  10 AM |  Peer reviews of proposals due. Each group will get ~5 peer reviews which can help you make your project better. In addition, each of your group members will probably have reviewed different projects, so you should discuss among yourselves what you saw during that time. | \n",
        "| 5/1 | 10 AM  | Work on Checkpoint and schedule out time for midterms and everyone else. Midterms caught up with everyone so we kept up with anything we had to do and communicated any issues. We took a break since deadlines got pushed back.|\n",
        "| 5/13  | 6 PM  | We got feedback from the TA so we talked about it on discord to see how we can incoporate it with our work. Checkpoint got delayed till next week|\n",
        "|5/16  | 12 PM  | Finalize wrangling/EDA; Complete checkpoint preliminary results and any missing work |\n",
        "| 5/19  | 12 PM  |We met up and worked on the project|\n",
        "| 5/20  | Before 11:59 PM  |Checkpoint due. We finished the checkpoint and came out good! |\n"
      ]
    },
    {
      "cell_type": "markdown",
      "metadata": {
        "id": "ic9Cf6CCROWM"
      },
      "source": [
        "# Footnotes\n",
        "\n",
        "<a name=\"Wilsonnote\"></a>1.[^](#Wilson): Wilson, P. W. F., D’Agostino, R. B., Levy, D., Belanger, A. M., Silbershatz, H., &amp; Kannel, W. B. (1998, May 12). Prediction of coronary heart disease using risk factor categories. Circulation. Retrieved April 24, 2022, from https://www.ahajournals.org/doi/10.1161/01.cir.97.18.1837 \n",
        "\n",
        "<a name=\"UTSouthnote\"></a>2.[^](#UTSouth): Traditional risk factors predict heart disease about as well as sophisticated genetic test, study suggests. UT Southwestern Medical Center. (2020, February 18). Retrieved April 24, 2022, from https://www.utsouthwestern.edu/newsroom/articles/year-2020/predicting-heart-disease.html#:~:text=18%2C%202020%20%E2%80%93%20Traditional%20cardiovascular%20risk,that%20surveys%20millions%20of%20different \n",
        "\n",
        "<a name=\"Mohannote\"></a>3.[^](#Mohan): Mohan, S., Thirumalai, C., &amp; Srivastava, G. (2019, June 19). Effective heart disease prediction using hybrid machine learning techniques. IEEE Xplore. Retrieved April 24, 2022, from https://ieeexplore.ieee.org/abstract/document/8740989#citations "
      ]
    }
  ],
  "metadata": {
    "colab": {
      "collapsed_sections": [],
      "name": "Checkpoint_group001.ipynb",
      "provenance": []
    },
    "kernelspec": {
      "display_name": "Python 3",
      "language": "python",
      "name": "python3"
    },
    "language_info": {
      "codemirror_mode": {
        "name": "ipython",
        "version": 3
      },
      "file_extension": ".py",
      "mimetype": "text/x-python",
      "name": "python",
      "nbconvert_exporter": "python",
      "pygments_lexer": "ipython3",
      "version": "3.7.1"
    }
  },
  "nbformat": 4,
  "nbformat_minor": 0
}
