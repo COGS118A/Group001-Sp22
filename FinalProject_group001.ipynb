{
  "cells": [
    {
      "cell_type": "markdown",
      "metadata": {
        "id": "T7MC8HMGROWD"
      },
      "source": [
        "# COGS 118A- Project Proposal"
      ]
    },
    {
      "cell_type": "markdown",
      "metadata": {
        "id": "eOBJOXAZROWF"
      },
      "source": [
        "# Project Description\n",
        "\n",
        "You will design and execute a machine learning project. There are a few constraints on the nature of the allowed project. \n",
        "- The problem addressed will not be a \"toy problem\" or \"common training students problem\" like mtcars, iris, palmer penguins etc.\n",
        "- The dataset will have >1k observations and >5 variables. I'd prefer more like >10k observations and >10 variables. A general rule is that if you have >100x more observations than variables, your solution will likely generalize a lot better. The goal of training a supervised machine learning model is to learn the underlying pattern in a dataset in order to generalize well to unseen data, so choosing a large dataset is very important.\n",
        "\n",
        "- The project will include a model selection and/or feature selection component where you will be looking for the best setup to maximize the performance of your ML system.\n",
        "- You will evaluate the performance of your ML system using more than one appropriate metric\n",
        "- You will be writing a report describing and discussing these accomplishments\n",
        "\n",
        "\n"
      ]
    },
    {
      "cell_type": "markdown",
      "metadata": {
        "id": "vVA4oOQDROWG"
      },
      "source": [
        "# Names\n",
        "\n",
        "- Alan Cao (A16160244)\n",
        "- Connie Chang (A16651609)\n",
        "- Helen Zhao (A15919169)\n",
        "- Shawn Kim (A15785021)\n",
        "- Robert Aispuro (A12086294)\n"
      ]
    },
    {
      "cell_type": "markdown",
      "metadata": {
        "id": "WClFIXsZROWH"
      },
      "source": [
        "# Abstract \n",
        "\n",
        "Heart disease is a common cause of death in the United States. Using data from the Center for Disease Control and Prevention (CDC), we will create a predictive machine learning model that is effective in detecting heart disease. We will conduct both logistic regression and random forest decision tree methods to analyze the effects of heart disease on factors including smoking, age, and alcohol usage. By analyzing this data set, we aim to grasp a better understanding of heart disease and hopefully reduce the number of cardiovascular deaths overall. Performance will be measured using metrics including precision and the F1 score.\n",
        "\n"
      ]
    },
    {
      "cell_type": "markdown",
      "metadata": {
        "id": "9qAtND-DROWH"
      },
      "source": [
        "# Background"
      ]
    },
    {
      "cell_type": "markdown",
      "source": [
        "According to the CDC, heart disease is the leading cause of death in the United States. However, the prediction of cardiovascular disease still remains as a challenge in the area of clinical data analysis despite the continuous growth of science and technology. It goes without saying that identifying coronary heart disease during the early stages is beneficial in minimizing the development of the disease and thus preventing the need for treatment. Therefore it is extremely important to continue to develop more effective ways of more accurately identifying risk factors that play a role in predicting heart disease. \n",
        "\n",
        "Previous research has shown that traditional cardiovascular risk factors are nearly equally valuable in assessing the likelihood of someone developing CHD as a looking at a genetic test. The risk factors listed include blood pressure, cholesterol levels, diabetes, and smoking status<a name=\"Wilson\"></a>[<sup>[1]</sup>](#Wilsonnote). Even though the genetic risk scores doesn't seem to necessarily add more predictive value, it is still necessary to develop a model that uses either traditional or genetic variables to more accurately predict CHD. Another article states that there is no clear difference in the effectiveness of using either categorical or continuous values of those risk factors in the prediction. Furthermore, the article discusses the limitations of their findings because of the exclusion of certain candidate variables. Such variables include family history of CHD, fibrinogen, exercise, and body mass index (BMI)<a name=\"UTSouth\"></a>[<sup>[2]</sup>](#UTSouthnote). Therefore, further research needs to be done on the predictive value of these excluded variables as well as the effectiveness of having a mixture of discrete and continuous variables in the predictive model.\n",
        "\n",
        "Due to the nature of heart disease risk factors to be complex and to depend largely on environmental factors, it is important to develop a model that is able to take these into consideration. Machine learning algorithms have been used in the past to detect and address the severity of the heart disease of patients. In terms of accuracy, random forest, support vector machine, deep learning, VOTE, and HRFLM are some of the best classification methods<a name=\"Mohan\"></a>[<sup>[3]</sup>](#Mohannote). Although this paper has analyzed the effectiveness of different machine learning models, further extension is needed to use real-world datasets on these models as the paper only used simulations and theoretical approaches. "
      ],
      "metadata": {
        "id": "xUnhPuwdW1IN"
      }
    },
    {
      "cell_type": "markdown",
      "metadata": {
        "id": "tZ7iw7OfROWI"
      },
      "source": [
        "# Problem Statement\n",
        "\n",
        "\n",
        "\n",
        "The problem we are trying to solve is to better predict which factors influence cardiovascular disease whether that be indirectly or directly. We are going to run a logistical regression on the variables. We will be using a group of techniques in order to balance the class distribution for our dataset since it has a skewed class distribution. By classifing our variables in a binary \"Yes\" or \"No\" format, we can predict which factors play a role in heart disease. We will run this alongside our whole dataset in order to replicate it with over 400,000 other patients in order to see if our model is accurate."
      ]
    },
    {
      "cell_type": "markdown",
      "metadata": {
        "id": "vPDW6gFxROWI"
      },
      "source": [
        "# Data\n",
        "\n",
        "Link/Reference: https://www.kaggle.com/datasets/kamilpytlak/personal-key-indicators-of-heart-disease\n",
        "\n",
        "The dataset includes 18 variables and just over 300,000 observations. An observation consists of attributes such as a person's BMI, whether they smoked, their age, sex, and whether they contracted a heart disease. Some crucial variables are sex represented by \"Male\" and \"Female\" and age which is represented by an interval. Some boolean values are represented by \"Yes\" or \"No\". We will need to transform these values into a numerical format (1s and 0s) in order to process them. We also have categorical variables like General Health which we can convert numerically with one hot encoding. Given these variables and which observations had heart disease, we will be able to predict how attributes contribute to cardivascular disease the most and take steps in order to prevent disease.\n",
        "\n"
      ]
    },
    {
      "cell_type": "markdown",
      "source": [
        "# Data Cleaning"
      ],
      "metadata": {
        "id": "tUru5Rd_GEkf"
      }
    },
    {
      "cell_type": "markdown",
      "source": [
        "Our overall data cleaning steps are described as below:\n",
        "1. First,we drop all the nan rows\n",
        "2. Then we drop the irrevelant columns we dont need. PhyscialActivity and MentalHealth.\n",
        "3. We then keep rows from the 'Diabetic' column that are only 'Yes' or 'No'\n",
        "4. Next, we keep rows where the average sleep is < 24 hours because 24 hours is impossible.\n",
        "5. Then, we change all 'Yes' and 'No' values to 1 and 0 where 1 = True and 0 = False\n",
        "6. Finally, we reduce the number of categories from 13 to 3. Adult = 18-39. Middle Age = 40-59. Senior = 60 and up\n",
        "\n",
        "\n",
        "The number of variables in our dataset is 16. The number of observations is 310426. Each observation represents an individual adult interviewer who participated in the survey that the dataset was formed from. \n",
        "\n",
        "HeartDisease = Have you ever reported having heart disease\n",
        "\n",
        "BMI = Body Mass Index\n",
        "\n",
        "Smoking = Have you smoked at least 5 packs of cigarettes in your entire life? \n",
        "\n",
        "AlcoholDrinking = Yes if adult man has more than 14 drinks per week or adult woman has more than 7 drinks per week. No if anything else\n",
        "\n",
        "Stroke = Have you ever been told that you had a stroke?\n",
        "\n",
        "DiffWalking = Have you ever had serious difficulty walking or climbing stairs?\n",
        "\n",
        "Sex = Are you male or female?\n",
        "\n",
        "AgeCategory = 3 level age category Adult = 18-39. Middle Age = 40-59. Senior = 60 and up\n",
        "\n",
        "Race = What is your race? \n",
        "\n",
        "Diabetic = Have you ever been told you have diabetes?\n",
        "\n",
        "PhysicalActivity = Have you done physical activity or exercise during the past 30 days other than your regular job?\n",
        "\n",
        "GenHealth = On a scale from Poor, Fair, Good, Very Good, and Excellent, what would you say that in general your health is?\n",
        "\n",
        "SleepTime = On average, how many hours of sleep do you get in a 24-hour period?\n",
        "\n",
        "Asthma = Have you ever been told you had asthma?\n",
        "\n",
        "KidneyDisease = Have you ever been told you had kidney disease?(Does NOT include kidney stones)\n",
        "\n",
        "SkinCancer = Have you ever been told you have Skin Cancer? \n"
      ],
      "metadata": {
        "id": "-Hi0ATDOGIH-"
      }
    },
    {
      "cell_type": "code",
      "source": [
        "# Imports\n",
        "\n",
        "import pandas as pd\n",
        "import matplotlib.pyplot as plt"
      ],
      "metadata": {
        "id": "nhCitMMVDmmD"
      },
      "execution_count": null,
      "outputs": []
    },
    {
      "cell_type": "code",
      "source": [
        "# Load dataset\n",
        "\n",
        "df = pd.read_csv('heart_2020_cleaned.csv')\n",
        "df.head()"
      ],
      "metadata": {
        "colab": {
          "base_uri": "https://localhost:8080/",
          "height": 206
        },
        "id": "T2la4C6UEFWx",
        "outputId": "47d34518-d9bf-431e-da41-80150f54fd9c"
      },
      "execution_count": null,
      "outputs": [
        {
          "output_type": "execute_result",
          "data": {
            "text/plain": [
              "  HeartDisease    BMI Smoking AlcoholDrinking Stroke  PhysicalHealth  \\\n",
              "0           No  16.60     Yes              No     No             3.0   \n",
              "1           No  20.34      No              No    Yes             0.0   \n",
              "2           No  26.58     Yes              No     No            20.0   \n",
              "3           No  24.21      No              No     No             0.0   \n",
              "4           No  23.71      No              No     No            28.0   \n",
              "\n",
              "   MentalHealth DiffWalking     Sex  AgeCategory   Race Diabetic  \\\n",
              "0          30.0          No  Female        55-59  White      Yes   \n",
              "1           0.0          No  Female  80 or older  White       No   \n",
              "2          30.0          No    Male        65-69  White      Yes   \n",
              "3           0.0          No  Female        75-79  White       No   \n",
              "4           0.0         Yes  Female        40-44  White       No   \n",
              "\n",
              "  PhysicalActivity  GenHealth  SleepTime Asthma KidneyDisease SkinCancer  \n",
              "0              Yes  Very good        5.0    Yes            No        Yes  \n",
              "1              Yes  Very good        7.0     No            No         No  \n",
              "2              Yes       Fair        8.0    Yes            No         No  \n",
              "3               No       Good        6.0     No            No        Yes  \n",
              "4              Yes  Very good        8.0     No            No         No  "
            ],
            "text/html": [
              "\n",
              "  <div id=\"df-d74c50b2-a6e2-4ab4-910c-2a4e07be44ed\">\n",
              "    <div class=\"colab-df-container\">\n",
              "      <div>\n",
              "<style scoped>\n",
              "    .dataframe tbody tr th:only-of-type {\n",
              "        vertical-align: middle;\n",
              "    }\n",
              "\n",
              "    .dataframe tbody tr th {\n",
              "        vertical-align: top;\n",
              "    }\n",
              "\n",
              "    .dataframe thead th {\n",
              "        text-align: right;\n",
              "    }\n",
              "</style>\n",
              "<table border=\"1\" class=\"dataframe\">\n",
              "  <thead>\n",
              "    <tr style=\"text-align: right;\">\n",
              "      <th></th>\n",
              "      <th>HeartDisease</th>\n",
              "      <th>BMI</th>\n",
              "      <th>Smoking</th>\n",
              "      <th>AlcoholDrinking</th>\n",
              "      <th>Stroke</th>\n",
              "      <th>PhysicalHealth</th>\n",
              "      <th>MentalHealth</th>\n",
              "      <th>DiffWalking</th>\n",
              "      <th>Sex</th>\n",
              "      <th>AgeCategory</th>\n",
              "      <th>Race</th>\n",
              "      <th>Diabetic</th>\n",
              "      <th>PhysicalActivity</th>\n",
              "      <th>GenHealth</th>\n",
              "      <th>SleepTime</th>\n",
              "      <th>Asthma</th>\n",
              "      <th>KidneyDisease</th>\n",
              "      <th>SkinCancer</th>\n",
              "    </tr>\n",
              "  </thead>\n",
              "  <tbody>\n",
              "    <tr>\n",
              "      <th>0</th>\n",
              "      <td>No</td>\n",
              "      <td>16.60</td>\n",
              "      <td>Yes</td>\n",
              "      <td>No</td>\n",
              "      <td>No</td>\n",
              "      <td>3.0</td>\n",
              "      <td>30.0</td>\n",
              "      <td>No</td>\n",
              "      <td>Female</td>\n",
              "      <td>55-59</td>\n",
              "      <td>White</td>\n",
              "      <td>Yes</td>\n",
              "      <td>Yes</td>\n",
              "      <td>Very good</td>\n",
              "      <td>5.0</td>\n",
              "      <td>Yes</td>\n",
              "      <td>No</td>\n",
              "      <td>Yes</td>\n",
              "    </tr>\n",
              "    <tr>\n",
              "      <th>1</th>\n",
              "      <td>No</td>\n",
              "      <td>20.34</td>\n",
              "      <td>No</td>\n",
              "      <td>No</td>\n",
              "      <td>Yes</td>\n",
              "      <td>0.0</td>\n",
              "      <td>0.0</td>\n",
              "      <td>No</td>\n",
              "      <td>Female</td>\n",
              "      <td>80 or older</td>\n",
              "      <td>White</td>\n",
              "      <td>No</td>\n",
              "      <td>Yes</td>\n",
              "      <td>Very good</td>\n",
              "      <td>7.0</td>\n",
              "      <td>No</td>\n",
              "      <td>No</td>\n",
              "      <td>No</td>\n",
              "    </tr>\n",
              "    <tr>\n",
              "      <th>2</th>\n",
              "      <td>No</td>\n",
              "      <td>26.58</td>\n",
              "      <td>Yes</td>\n",
              "      <td>No</td>\n",
              "      <td>No</td>\n",
              "      <td>20.0</td>\n",
              "      <td>30.0</td>\n",
              "      <td>No</td>\n",
              "      <td>Male</td>\n",
              "      <td>65-69</td>\n",
              "      <td>White</td>\n",
              "      <td>Yes</td>\n",
              "      <td>Yes</td>\n",
              "      <td>Fair</td>\n",
              "      <td>8.0</td>\n",
              "      <td>Yes</td>\n",
              "      <td>No</td>\n",
              "      <td>No</td>\n",
              "    </tr>\n",
              "    <tr>\n",
              "      <th>3</th>\n",
              "      <td>No</td>\n",
              "      <td>24.21</td>\n",
              "      <td>No</td>\n",
              "      <td>No</td>\n",
              "      <td>No</td>\n",
              "      <td>0.0</td>\n",
              "      <td>0.0</td>\n",
              "      <td>No</td>\n",
              "      <td>Female</td>\n",
              "      <td>75-79</td>\n",
              "      <td>White</td>\n",
              "      <td>No</td>\n",
              "      <td>No</td>\n",
              "      <td>Good</td>\n",
              "      <td>6.0</td>\n",
              "      <td>No</td>\n",
              "      <td>No</td>\n",
              "      <td>Yes</td>\n",
              "    </tr>\n",
              "    <tr>\n",
              "      <th>4</th>\n",
              "      <td>No</td>\n",
              "      <td>23.71</td>\n",
              "      <td>No</td>\n",
              "      <td>No</td>\n",
              "      <td>No</td>\n",
              "      <td>28.0</td>\n",
              "      <td>0.0</td>\n",
              "      <td>Yes</td>\n",
              "      <td>Female</td>\n",
              "      <td>40-44</td>\n",
              "      <td>White</td>\n",
              "      <td>No</td>\n",
              "      <td>Yes</td>\n",
              "      <td>Very good</td>\n",
              "      <td>8.0</td>\n",
              "      <td>No</td>\n",
              "      <td>No</td>\n",
              "      <td>No</td>\n",
              "    </tr>\n",
              "  </tbody>\n",
              "</table>\n",
              "</div>\n",
              "      <button class=\"colab-df-convert\" onclick=\"convertToInteractive('df-d74c50b2-a6e2-4ab4-910c-2a4e07be44ed')\"\n",
              "              title=\"Convert this dataframe to an interactive table.\"\n",
              "              style=\"display:none;\">\n",
              "        \n",
              "  <svg xmlns=\"http://www.w3.org/2000/svg\" height=\"24px\"viewBox=\"0 0 24 24\"\n",
              "       width=\"24px\">\n",
              "    <path d=\"M0 0h24v24H0V0z\" fill=\"none\"/>\n",
              "    <path d=\"M18.56 5.44l.94 2.06.94-2.06 2.06-.94-2.06-.94-.94-2.06-.94 2.06-2.06.94zm-11 1L8.5 8.5l.94-2.06 2.06-.94-2.06-.94L8.5 2.5l-.94 2.06-2.06.94zm10 10l.94 2.06.94-2.06 2.06-.94-2.06-.94-.94-2.06-.94 2.06-2.06.94z\"/><path d=\"M17.41 7.96l-1.37-1.37c-.4-.4-.92-.59-1.43-.59-.52 0-1.04.2-1.43.59L10.3 9.45l-7.72 7.72c-.78.78-.78 2.05 0 2.83L4 21.41c.39.39.9.59 1.41.59.51 0 1.02-.2 1.41-.59l7.78-7.78 2.81-2.81c.8-.78.8-2.07 0-2.86zM5.41 20L4 18.59l7.72-7.72 1.47 1.35L5.41 20z\"/>\n",
              "  </svg>\n",
              "      </button>\n",
              "      \n",
              "  <style>\n",
              "    .colab-df-container {\n",
              "      display:flex;\n",
              "      flex-wrap:wrap;\n",
              "      gap: 12px;\n",
              "    }\n",
              "\n",
              "    .colab-df-convert {\n",
              "      background-color: #E8F0FE;\n",
              "      border: none;\n",
              "      border-radius: 50%;\n",
              "      cursor: pointer;\n",
              "      display: none;\n",
              "      fill: #1967D2;\n",
              "      height: 32px;\n",
              "      padding: 0 0 0 0;\n",
              "      width: 32px;\n",
              "    }\n",
              "\n",
              "    .colab-df-convert:hover {\n",
              "      background-color: #E2EBFA;\n",
              "      box-shadow: 0px 1px 2px rgba(60, 64, 67, 0.3), 0px 1px 3px 1px rgba(60, 64, 67, 0.15);\n",
              "      fill: #174EA6;\n",
              "    }\n",
              "\n",
              "    [theme=dark] .colab-df-convert {\n",
              "      background-color: #3B4455;\n",
              "      fill: #D2E3FC;\n",
              "    }\n",
              "\n",
              "    [theme=dark] .colab-df-convert:hover {\n",
              "      background-color: #434B5C;\n",
              "      box-shadow: 0px 1px 3px 1px rgba(0, 0, 0, 0.15);\n",
              "      filter: drop-shadow(0px 1px 2px rgba(0, 0, 0, 0.3));\n",
              "      fill: #FFFFFF;\n",
              "    }\n",
              "  </style>\n",
              "\n",
              "      <script>\n",
              "        const buttonEl =\n",
              "          document.querySelector('#df-d74c50b2-a6e2-4ab4-910c-2a4e07be44ed button.colab-df-convert');\n",
              "        buttonEl.style.display =\n",
              "          google.colab.kernel.accessAllowed ? 'block' : 'none';\n",
              "\n",
              "        async function convertToInteractive(key) {\n",
              "          const element = document.querySelector('#df-d74c50b2-a6e2-4ab4-910c-2a4e07be44ed');\n",
              "          const dataTable =\n",
              "            await google.colab.kernel.invokeFunction('convertToInteractive',\n",
              "                                                     [key], {});\n",
              "          if (!dataTable) return;\n",
              "\n",
              "          const docLinkHtml = 'Like what you see? Visit the ' +\n",
              "            '<a target=\"_blank\" href=https://colab.research.google.com/notebooks/data_table.ipynb>data table notebook</a>'\n",
              "            + ' to learn more about interactive tables.';\n",
              "          element.innerHTML = '';\n",
              "          dataTable['output_type'] = 'display_data';\n",
              "          await google.colab.output.renderOutput(dataTable, element);\n",
              "          const docLink = document.createElement('div');\n",
              "          docLink.innerHTML = docLinkHtml;\n",
              "          element.appendChild(docLink);\n",
              "        }\n",
              "      </script>\n",
              "    </div>\n",
              "  </div>\n",
              "  "
            ]
          },
          "metadata": {},
          "execution_count": 3
        }
      ]
    },
    {
      "cell_type": "code",
      "source": [
        "df.dropna(inplace=True) # Drop all nan rows\n",
        "df.drop(columns=['PhysicalHealth', 'MentalHealth'], inplace=True) # Drop specific columns"
      ],
      "metadata": {
        "id": "9GKGqNe5Ejyr"
      },
      "execution_count": null,
      "outputs": []
    },
    {
      "cell_type": "code",
      "source": [
        "df.columns # Print remaining columns"
      ],
      "metadata": {
        "id": "VeUf8zDSGdvF",
        "colab": {
          "base_uri": "https://localhost:8080/"
        },
        "outputId": "584d1502-4006-4453-82b3-3acae93018da"
      },
      "execution_count": null,
      "outputs": [
        {
          "output_type": "execute_result",
          "data": {
            "text/plain": [
              "Index(['HeartDisease', 'BMI', 'Smoking', 'AlcoholDrinking', 'Stroke',\n",
              "       'DiffWalking', 'Sex', 'AgeCategory', 'Race', 'Diabetic',\n",
              "       'PhysicalActivity', 'GenHealth', 'SleepTime', 'Asthma', 'KidneyDisease',\n",
              "       'SkinCancer'],\n",
              "      dtype='object')"
            ]
          },
          "metadata": {},
          "execution_count": 5
        }
      ]
    },
    {
      "cell_type": "code",
      "source": [
        "# Keep rows from the 'Diabetic' column that are only 'Yes' or 'No'\n",
        "df = df[(df['Diabetic'] == 'Yes') | (df['Diabetic'] == 'No')]\n",
        "\n",
        "# Keep rows where the average sleep is < 24 hours because 24 hours impossible\n",
        "df = df[df['SleepTime'] < 24.0]\n",
        "\n",
        "# Change all 'Yes' and 'No' values to 1 and 0 where 1 = True and 0 = False\n",
        "converted_bools = {'Yes': 1, 'No': 0}\n",
        "df.replace({'HeartDisease': converted_bools, \n",
        "                 'Smoking': converted_bools, \n",
        "                 'AlcoholDrinking': converted_bools,\n",
        "                 'Stroke': converted_bools,\n",
        "                 'DiffWalking': converted_bools,\n",
        "                 'Diabetic': converted_bools,\n",
        "                 'PhysicalActivity': converted_bools,\n",
        "                 'Asthma': converted_bools,\n",
        "                 'KidneyDisease': converted_bools,\n",
        "                 'SkinCancer': converted_bools,\n",
        "                 }, inplace=True)\n",
        "\n",
        "df.head()"
      ],
      "metadata": {
        "id": "To2W8qxyG7Pn",
        "colab": {
          "base_uri": "https://localhost:8080/",
          "height": 206
        },
        "outputId": "650fd5fa-c414-4e44-bee0-f19d96a81fa3"
      },
      "execution_count": null,
      "outputs": [
        {
          "output_type": "execute_result",
          "data": {
            "text/plain": [
              "   HeartDisease    BMI  Smoking  AlcoholDrinking  Stroke  DiffWalking     Sex  \\\n",
              "0             0  16.60        1                0       0            0  Female   \n",
              "1             0  20.34        0                0       1            0  Female   \n",
              "2             0  26.58        1                0       0            0    Male   \n",
              "3             0  24.21        0                0       0            0  Female   \n",
              "4             0  23.71        0                0       0            1  Female   \n",
              "\n",
              "   AgeCategory   Race  Diabetic  PhysicalActivity  GenHealth  SleepTime  \\\n",
              "0        55-59  White         1                 1  Very good        5.0   \n",
              "1  80 or older  White         0                 1  Very good        7.0   \n",
              "2        65-69  White         1                 1       Fair        8.0   \n",
              "3        75-79  White         0                 0       Good        6.0   \n",
              "4        40-44  White         0                 1  Very good        8.0   \n",
              "\n",
              "   Asthma  KidneyDisease  SkinCancer  \n",
              "0       1              0           1  \n",
              "1       0              0           0  \n",
              "2       1              0           0  \n",
              "3       0              0           1  \n",
              "4       0              0           0  "
            ],
            "text/html": [
              "\n",
              "  <div id=\"df-38c5ce0d-779b-43dd-a1a0-172a8607695f\">\n",
              "    <div class=\"colab-df-container\">\n",
              "      <div>\n",
              "<style scoped>\n",
              "    .dataframe tbody tr th:only-of-type {\n",
              "        vertical-align: middle;\n",
              "    }\n",
              "\n",
              "    .dataframe tbody tr th {\n",
              "        vertical-align: top;\n",
              "    }\n",
              "\n",
              "    .dataframe thead th {\n",
              "        text-align: right;\n",
              "    }\n",
              "</style>\n",
              "<table border=\"1\" class=\"dataframe\">\n",
              "  <thead>\n",
              "    <tr style=\"text-align: right;\">\n",
              "      <th></th>\n",
              "      <th>HeartDisease</th>\n",
              "      <th>BMI</th>\n",
              "      <th>Smoking</th>\n",
              "      <th>AlcoholDrinking</th>\n",
              "      <th>Stroke</th>\n",
              "      <th>DiffWalking</th>\n",
              "      <th>Sex</th>\n",
              "      <th>AgeCategory</th>\n",
              "      <th>Race</th>\n",
              "      <th>Diabetic</th>\n",
              "      <th>PhysicalActivity</th>\n",
              "      <th>GenHealth</th>\n",
              "      <th>SleepTime</th>\n",
              "      <th>Asthma</th>\n",
              "      <th>KidneyDisease</th>\n",
              "      <th>SkinCancer</th>\n",
              "    </tr>\n",
              "  </thead>\n",
              "  <tbody>\n",
              "    <tr>\n",
              "      <th>0</th>\n",
              "      <td>0</td>\n",
              "      <td>16.60</td>\n",
              "      <td>1</td>\n",
              "      <td>0</td>\n",
              "      <td>0</td>\n",
              "      <td>0</td>\n",
              "      <td>Female</td>\n",
              "      <td>55-59</td>\n",
              "      <td>White</td>\n",
              "      <td>1</td>\n",
              "      <td>1</td>\n",
              "      <td>Very good</td>\n",
              "      <td>5.0</td>\n",
              "      <td>1</td>\n",
              "      <td>0</td>\n",
              "      <td>1</td>\n",
              "    </tr>\n",
              "    <tr>\n",
              "      <th>1</th>\n",
              "      <td>0</td>\n",
              "      <td>20.34</td>\n",
              "      <td>0</td>\n",
              "      <td>0</td>\n",
              "      <td>1</td>\n",
              "      <td>0</td>\n",
              "      <td>Female</td>\n",
              "      <td>80 or older</td>\n",
              "      <td>White</td>\n",
              "      <td>0</td>\n",
              "      <td>1</td>\n",
              "      <td>Very good</td>\n",
              "      <td>7.0</td>\n",
              "      <td>0</td>\n",
              "      <td>0</td>\n",
              "      <td>0</td>\n",
              "    </tr>\n",
              "    <tr>\n",
              "      <th>2</th>\n",
              "      <td>0</td>\n",
              "      <td>26.58</td>\n",
              "      <td>1</td>\n",
              "      <td>0</td>\n",
              "      <td>0</td>\n",
              "      <td>0</td>\n",
              "      <td>Male</td>\n",
              "      <td>65-69</td>\n",
              "      <td>White</td>\n",
              "      <td>1</td>\n",
              "      <td>1</td>\n",
              "      <td>Fair</td>\n",
              "      <td>8.0</td>\n",
              "      <td>1</td>\n",
              "      <td>0</td>\n",
              "      <td>0</td>\n",
              "    </tr>\n",
              "    <tr>\n",
              "      <th>3</th>\n",
              "      <td>0</td>\n",
              "      <td>24.21</td>\n",
              "      <td>0</td>\n",
              "      <td>0</td>\n",
              "      <td>0</td>\n",
              "      <td>0</td>\n",
              "      <td>Female</td>\n",
              "      <td>75-79</td>\n",
              "      <td>White</td>\n",
              "      <td>0</td>\n",
              "      <td>0</td>\n",
              "      <td>Good</td>\n",
              "      <td>6.0</td>\n",
              "      <td>0</td>\n",
              "      <td>0</td>\n",
              "      <td>1</td>\n",
              "    </tr>\n",
              "    <tr>\n",
              "      <th>4</th>\n",
              "      <td>0</td>\n",
              "      <td>23.71</td>\n",
              "      <td>0</td>\n",
              "      <td>0</td>\n",
              "      <td>0</td>\n",
              "      <td>1</td>\n",
              "      <td>Female</td>\n",
              "      <td>40-44</td>\n",
              "      <td>White</td>\n",
              "      <td>0</td>\n",
              "      <td>1</td>\n",
              "      <td>Very good</td>\n",
              "      <td>8.0</td>\n",
              "      <td>0</td>\n",
              "      <td>0</td>\n",
              "      <td>0</td>\n",
              "    </tr>\n",
              "  </tbody>\n",
              "</table>\n",
              "</div>\n",
              "      <button class=\"colab-df-convert\" onclick=\"convertToInteractive('df-38c5ce0d-779b-43dd-a1a0-172a8607695f')\"\n",
              "              title=\"Convert this dataframe to an interactive table.\"\n",
              "              style=\"display:none;\">\n",
              "        \n",
              "  <svg xmlns=\"http://www.w3.org/2000/svg\" height=\"24px\"viewBox=\"0 0 24 24\"\n",
              "       width=\"24px\">\n",
              "    <path d=\"M0 0h24v24H0V0z\" fill=\"none\"/>\n",
              "    <path d=\"M18.56 5.44l.94 2.06.94-2.06 2.06-.94-2.06-.94-.94-2.06-.94 2.06-2.06.94zm-11 1L8.5 8.5l.94-2.06 2.06-.94-2.06-.94L8.5 2.5l-.94 2.06-2.06.94zm10 10l.94 2.06.94-2.06 2.06-.94-2.06-.94-.94-2.06-.94 2.06-2.06.94z\"/><path d=\"M17.41 7.96l-1.37-1.37c-.4-.4-.92-.59-1.43-.59-.52 0-1.04.2-1.43.59L10.3 9.45l-7.72 7.72c-.78.78-.78 2.05 0 2.83L4 21.41c.39.39.9.59 1.41.59.51 0 1.02-.2 1.41-.59l7.78-7.78 2.81-2.81c.8-.78.8-2.07 0-2.86zM5.41 20L4 18.59l7.72-7.72 1.47 1.35L5.41 20z\"/>\n",
              "  </svg>\n",
              "      </button>\n",
              "      \n",
              "  <style>\n",
              "    .colab-df-container {\n",
              "      display:flex;\n",
              "      flex-wrap:wrap;\n",
              "      gap: 12px;\n",
              "    }\n",
              "\n",
              "    .colab-df-convert {\n",
              "      background-color: #E8F0FE;\n",
              "      border: none;\n",
              "      border-radius: 50%;\n",
              "      cursor: pointer;\n",
              "      display: none;\n",
              "      fill: #1967D2;\n",
              "      height: 32px;\n",
              "      padding: 0 0 0 0;\n",
              "      width: 32px;\n",
              "    }\n",
              "\n",
              "    .colab-df-convert:hover {\n",
              "      background-color: #E2EBFA;\n",
              "      box-shadow: 0px 1px 2px rgba(60, 64, 67, 0.3), 0px 1px 3px 1px rgba(60, 64, 67, 0.15);\n",
              "      fill: #174EA6;\n",
              "    }\n",
              "\n",
              "    [theme=dark] .colab-df-convert {\n",
              "      background-color: #3B4455;\n",
              "      fill: #D2E3FC;\n",
              "    }\n",
              "\n",
              "    [theme=dark] .colab-df-convert:hover {\n",
              "      background-color: #434B5C;\n",
              "      box-shadow: 0px 1px 3px 1px rgba(0, 0, 0, 0.15);\n",
              "      filter: drop-shadow(0px 1px 2px rgba(0, 0, 0, 0.3));\n",
              "      fill: #FFFFFF;\n",
              "    }\n",
              "  </style>\n",
              "\n",
              "      <script>\n",
              "        const buttonEl =\n",
              "          document.querySelector('#df-38c5ce0d-779b-43dd-a1a0-172a8607695f button.colab-df-convert');\n",
              "        buttonEl.style.display =\n",
              "          google.colab.kernel.accessAllowed ? 'block' : 'none';\n",
              "\n",
              "        async function convertToInteractive(key) {\n",
              "          const element = document.querySelector('#df-38c5ce0d-779b-43dd-a1a0-172a8607695f');\n",
              "          const dataTable =\n",
              "            await google.colab.kernel.invokeFunction('convertToInteractive',\n",
              "                                                     [key], {});\n",
              "          if (!dataTable) return;\n",
              "\n",
              "          const docLinkHtml = 'Like what you see? Visit the ' +\n",
              "            '<a target=\"_blank\" href=https://colab.research.google.com/notebooks/data_table.ipynb>data table notebook</a>'\n",
              "            + ' to learn more about interactive tables.';\n",
              "          element.innerHTML = '';\n",
              "          dataTable['output_type'] = 'display_data';\n",
              "          await google.colab.output.renderOutput(dataTable, element);\n",
              "          const docLink = document.createElement('div');\n",
              "          docLink.innerHTML = docLinkHtml;\n",
              "          element.appendChild(docLink);\n",
              "        }\n",
              "      </script>\n",
              "    </div>\n",
              "  </div>\n",
              "  "
            ]
          },
          "metadata": {},
          "execution_count": 6
        }
      ]
    },
    {
      "cell_type": "code",
      "source": [
        "#Reduce the number of categories from 13 to 3. Adult = 18-39. Middle Age = 40-59. Senior = 60 and up\n",
        "df.AgeCategory.replace(['18-24', '25-29', '30-34', '35-39', '40-44', '45-49', '50-54', '55-59', '60-64',\n",
        "                         '65-69', '70-74', '75-79', '80 or older'], ['Adult','Adult','Adult','Adult',\n",
        "                                                                     'Middle Age','Middle Age','Middle Age','Middle Age',\n",
        "                                                                     'Senior','Senior','Senior','Senior','Senior',], inplace=True)\n",
        "#Show the count of the 3 new categories\n",
        "df['AgeCategory'].value_counts()"
      ],
      "metadata": {
        "id": "CuGm-SZxGbtq",
        "colab": {
          "base_uri": "https://localhost:8080/"
        },
        "outputId": "0937785d-2c1c-4fa3-ffda-3643a20528bc"
      },
      "execution_count": null,
      "outputs": [
        {
          "output_type": "execute_result",
          "data": {
            "text/plain": [
              "Senior        139910\n",
              "Middle Age     94942\n",
              "Adult          75574\n",
              "Name: AgeCategory, dtype: int64"
            ]
          },
          "metadata": {},
          "execution_count": 7
        }
      ]
    },
    {
      "cell_type": "code",
      "source": [
        "# Show the distribution of data \n",
        "\n",
        "fig = plt.figure(figsize=(15, 12))\n",
        "ax = fig.gca()\n",
        "df.hist(ax=ax);"
      ],
      "metadata": {
        "id": "VUaFy8PUW3H9",
        "colab": {
          "base_uri": "https://localhost:8080/",
          "height": 751
        },
        "outputId": "ee22cc03-0fe3-4a40-8ba1-1b7f7ec7a3b3"
      },
      "execution_count": null,
      "outputs": [
        {
          "output_type": "stream",
          "name": "stderr",
          "text": [
            "/usr/local/lib/python3.7/dist-packages/ipykernel_launcher.py:5: UserWarning: To output multiple subplots, the figure containing the passed axes is being cleared\n",
            "  \"\"\"\n"
          ]
        },
        {
          "output_type": "display_data",
          "data": {
            "text/plain": [
              "<Figure size 1080x864 with 12 Axes>"
            ],
            "image/png": "[encoded data removed]"
          },
          "metadata": {
            "needs_background": "light"
          }
        }
      ]
    },
    {
      "cell_type": "code",
      "source": [
        "df.describe() # Some useful info about columns after transforming"
      ],
      "metadata": {
        "id": "0ul3gOugZtgq",
        "colab": {
          "base_uri": "https://localhost:8080/",
          "height": 300
        },
        "outputId": "f983d746-4012-4f88-c520-b759115836b1"
      },
      "execution_count": null,
      "outputs": [
        {
          "output_type": "execute_result",
          "data": {
            "text/plain": [
              "        HeartDisease            BMI        Smoking  AlcoholDrinking  \\\n",
              "count  310426.000000  310426.000000  310426.000000    310426.000000   \n",
              "mean        0.085270      28.273736       0.412205         0.068496   \n",
              "std         0.279283       6.327952       0.492232         0.252596   \n",
              "min         0.000000      12.020000       0.000000         0.000000   \n",
              "25%         0.000000      23.990000       0.000000         0.000000   \n",
              "50%         0.000000      27.280000       0.000000         0.000000   \n",
              "75%         0.000000      31.320000       1.000000         0.000000   \n",
              "max         1.000000      94.850000       1.000000         1.000000   \n",
              "\n",
              "              Stroke    DiffWalking       Diabetic  PhysicalActivity  \\\n",
              "count  310426.000000  310426.000000  310426.000000     310426.000000   \n",
              "mean        0.037500       0.137427       0.131413          0.776398   \n",
              "std         0.189984       0.344298       0.337852          0.416659   \n",
              "min         0.000000       0.000000       0.000000          0.000000   \n",
              "25%         0.000000       0.000000       0.000000          1.000000   \n",
              "50%         0.000000       0.000000       0.000000          1.000000   \n",
              "75%         0.000000       0.000000       0.000000          1.000000   \n",
              "max         1.000000       1.000000       1.000000          1.000000   \n",
              "\n",
              "           SleepTime         Asthma  KidneyDisease     SkinCancer  \n",
              "count  310426.000000  310426.000000  310426.000000  310426.000000  \n",
              "mean        7.098516       0.132795       0.036775       0.093249  \n",
              "std         1.425073       0.339354       0.188210       0.290782  \n",
              "min         1.000000       0.000000       0.000000       0.000000  \n",
              "25%         6.000000       0.000000       0.000000       0.000000  \n",
              "50%         7.000000       0.000000       0.000000       0.000000  \n",
              "75%         8.000000       0.000000       0.000000       0.000000  \n",
              "max        23.000000       1.000000       1.000000       1.000000  "
            ],
            "text/html": [
              "\n",
              "  <div id=\"df-f29d6f0d-6048-4f18-92ee-7de33ee86123\">\n",
              "    <div class=\"colab-df-container\">\n",
              "      <div>\n",
              "<style scoped>\n",
              "    .dataframe tbody tr th:only-of-type {\n",
              "        vertical-align: middle;\n",
              "    }\n",
              "\n",
              "    .dataframe tbody tr th {\n",
              "        vertical-align: top;\n",
              "    }\n",
              "\n",
              "    .dataframe thead th {\n",
              "        text-align: right;\n",
              "    }\n",
              "</style>\n",
              "<table border=\"1\" class=\"dataframe\">\n",
              "  <thead>\n",
              "    <tr style=\"text-align: right;\">\n",
              "      <th></th>\n",
              "      <th>HeartDisease</th>\n",
              "      <th>BMI</th>\n",
              "      <th>Smoking</th>\n",
              "      <th>AlcoholDrinking</th>\n",
              "      <th>Stroke</th>\n",
              "      <th>DiffWalking</th>\n",
              "      <th>Diabetic</th>\n",
              "      <th>PhysicalActivity</th>\n",
              "      <th>SleepTime</th>\n",
              "      <th>Asthma</th>\n",
              "      <th>KidneyDisease</th>\n",
              "      <th>SkinCancer</th>\n",
              "    </tr>\n",
              "  </thead>\n",
              "  <tbody>\n",
              "    <tr>\n",
              "      <th>count</th>\n",
              "      <td>310426.000000</td>\n",
              "      <td>310426.000000</td>\n",
              "      <td>310426.000000</td>\n",
              "      <td>310426.000000</td>\n",
              "      <td>310426.000000</td>\n",
              "      <td>310426.000000</td>\n",
              "      <td>310426.000000</td>\n",
              "      <td>310426.000000</td>\n",
              "      <td>310426.000000</td>\n",
              "      <td>310426.000000</td>\n",
              "      <td>310426.000000</td>\n",
              "      <td>310426.000000</td>\n",
              "    </tr>\n",
              "    <tr>\n",
              "      <th>mean</th>\n",
              "      <td>0.085270</td>\n",
              "      <td>28.273736</td>\n",
              "      <td>0.412205</td>\n",
              "      <td>0.068496</td>\n",
              "      <td>0.037500</td>\n",
              "      <td>0.137427</td>\n",
              "      <td>0.131413</td>\n",
              "      <td>0.776398</td>\n",
              "      <td>7.098516</td>\n",
              "      <td>0.132795</td>\n",
              "      <td>0.036775</td>\n",
              "      <td>0.093249</td>\n",
              "    </tr>\n",
              "    <tr>\n",
              "      <th>std</th>\n",
              "      <td>0.279283</td>\n",
              "      <td>6.327952</td>\n",
              "      <td>0.492232</td>\n",
              "      <td>0.252596</td>\n",
              "      <td>0.189984</td>\n",
              "      <td>0.344298</td>\n",
              "      <td>0.337852</td>\n",
              "      <td>0.416659</td>\n",
              "      <td>1.425073</td>\n",
              "      <td>0.339354</td>\n",
              "      <td>0.188210</td>\n",
              "      <td>0.290782</td>\n",
              "    </tr>\n",
              "    <tr>\n",
              "      <th>min</th>\n",
              "      <td>0.000000</td>\n",
              "      <td>12.020000</td>\n",
              "      <td>0.000000</td>\n",
              "      <td>0.000000</td>\n",
              "      <td>0.000000</td>\n",
              "      <td>0.000000</td>\n",
              "      <td>0.000000</td>\n",
              "      <td>0.000000</td>\n",
              "      <td>1.000000</td>\n",
              "      <td>0.000000</td>\n",
              "      <td>0.000000</td>\n",
              "      <td>0.000000</td>\n",
              "    </tr>\n",
              "    <tr>\n",
              "      <th>25%</th>\n",
              "      <td>0.000000</td>\n",
              "      <td>23.990000</td>\n",
              "      <td>0.000000</td>\n",
              "      <td>0.000000</td>\n",
              "      <td>0.000000</td>\n",
              "      <td>0.000000</td>\n",
              "      <td>0.000000</td>\n",
              "      <td>1.000000</td>\n",
              "      <td>6.000000</td>\n",
              "      <td>0.000000</td>\n",
              "      <td>0.000000</td>\n",
              "      <td>0.000000</td>\n",
              "    </tr>\n",
              "    <tr>\n",
              "      <th>50%</th>\n",
              "      <td>0.000000</td>\n",
              "      <td>27.280000</td>\n",
              "      <td>0.000000</td>\n",
              "      <td>0.000000</td>\n",
              "      <td>0.000000</td>\n",
              "      <td>0.000000</td>\n",
              "      <td>0.000000</td>\n",
              "      <td>1.000000</td>\n",
              "      <td>7.000000</td>\n",
              "      <td>0.000000</td>\n",
              "      <td>0.000000</td>\n",
              "      <td>0.000000</td>\n",
              "    </tr>\n",
              "    <tr>\n",
              "      <th>75%</th>\n",
              "      <td>0.000000</td>\n",
              "      <td>31.320000</td>\n",
              "      <td>1.000000</td>\n",
              "      <td>0.000000</td>\n",
              "      <td>0.000000</td>\n",
              "      <td>0.000000</td>\n",
              "      <td>0.000000</td>\n",
              "      <td>1.000000</td>\n",
              "      <td>8.000000</td>\n",
              "      <td>0.000000</td>\n",
              "      <td>0.000000</td>\n",
              "      <td>0.000000</td>\n",
              "    </tr>\n",
              "    <tr>\n",
              "      <th>max</th>\n",
              "      <td>1.000000</td>\n",
              "      <td>94.850000</td>\n",
              "      <td>1.000000</td>\n",
              "      <td>1.000000</td>\n",
              "      <td>1.000000</td>\n",
              "      <td>1.000000</td>\n",
              "      <td>1.000000</td>\n",
              "      <td>1.000000</td>\n",
              "      <td>23.000000</td>\n",
              "      <td>1.000000</td>\n",
              "      <td>1.000000</td>\n",
              "      <td>1.000000</td>\n",
              "    </tr>\n",
              "  </tbody>\n",
              "</table>\n",
              "</div>\n",
              "      <button class=\"colab-df-convert\" onclick=\"convertToInteractive('df-f29d6f0d-6048-4f18-92ee-7de33ee86123')\"\n",
              "              title=\"Convert this dataframe to an interactive table.\"\n",
              "              style=\"display:none;\">\n",
              "        \n",
              "  <svg xmlns=\"http://www.w3.org/2000/svg\" height=\"24px\"viewBox=\"0 0 24 24\"\n",
              "       width=\"24px\">\n",
              "    <path d=\"M0 0h24v24H0V0z\" fill=\"none\"/>\n",
              "    <path d=\"M18.56 5.44l.94 2.06.94-2.06 2.06-.94-2.06-.94-.94-2.06-.94 2.06-2.06.94zm-11 1L8.5 8.5l.94-2.06 2.06-.94-2.06-.94L8.5 2.5l-.94 2.06-2.06.94zm10 10l.94 2.06.94-2.06 2.06-.94-2.06-.94-.94-2.06-.94 2.06-2.06.94z\"/><path d=\"M17.41 7.96l-1.37-1.37c-.4-.4-.92-.59-1.43-.59-.52 0-1.04.2-1.43.59L10.3 9.45l-7.72 7.72c-.78.78-.78 2.05 0 2.83L4 21.41c.39.39.9.59 1.41.59.51 0 1.02-.2 1.41-.59l7.78-7.78 2.81-2.81c.8-.78.8-2.07 0-2.86zM5.41 20L4 18.59l7.72-7.72 1.47 1.35L5.41 20z\"/>\n",
              "  </svg>\n",
              "      </button>\n",
              "      \n",
              "  <style>\n",
              "    .colab-df-container {\n",
              "      display:flex;\n",
              "      flex-wrap:wrap;\n",
              "      gap: 12px;\n",
              "    }\n",
              "\n",
              "    .colab-df-convert {\n",
              "      background-color: #E8F0FE;\n",
              "      border: none;\n",
              "      border-radius: 50%;\n",
              "      cursor: pointer;\n",
              "      display: none;\n",
              "      fill: #1967D2;\n",
              "      height: 32px;\n",
              "      padding: 0 0 0 0;\n",
              "      width: 32px;\n",
              "    }\n",
              "\n",
              "    .colab-df-convert:hover {\n",
              "      background-color: #E2EBFA;\n",
              "      box-shadow: 0px 1px 2px rgba(60, 64, 67, 0.3), 0px 1px 3px 1px rgba(60, 64, 67, 0.15);\n",
              "      fill: #174EA6;\n",
              "    }\n",
              "\n",
              "    [theme=dark] .colab-df-convert {\n",
              "      background-color: #3B4455;\n",
              "      fill: #D2E3FC;\n",
              "    }\n",
              "\n",
              "    [theme=dark] .colab-df-convert:hover {\n",
              "      background-color: #434B5C;\n",
              "      box-shadow: 0px 1px 3px 1px rgba(0, 0, 0, 0.15);\n",
              "      filter: drop-shadow(0px 1px 2px rgba(0, 0, 0, 0.3));\n",
              "      fill: #FFFFFF;\n",
              "    }\n",
              "  </style>\n",
              "\n",
              "      <script>\n",
              "        const buttonEl =\n",
              "          document.querySelector('#df-f29d6f0d-6048-4f18-92ee-7de33ee86123 button.colab-df-convert');\n",
              "        buttonEl.style.display =\n",
              "          google.colab.kernel.accessAllowed ? 'block' : 'none';\n",
              "\n",
              "        async function convertToInteractive(key) {\n",
              "          const element = document.querySelector('#df-f29d6f0d-6048-4f18-92ee-7de33ee86123');\n",
              "          const dataTable =\n",
              "            await google.colab.kernel.invokeFunction('convertToInteractive',\n",
              "                                                     [key], {});\n",
              "          if (!dataTable) return;\n",
              "\n",
              "          const docLinkHtml = 'Like what you see? Visit the ' +\n",
              "            '<a target=\"_blank\" href=https://colab.research.google.com/notebooks/data_table.ipynb>data table notebook</a>'\n",
              "            + ' to learn more about interactive tables.';\n",
              "          element.innerHTML = '';\n",
              "          dataTable['output_type'] = 'display_data';\n",
              "          await google.colab.output.renderOutput(dataTable, element);\n",
              "          const docLink = document.createElement('div');\n",
              "          docLink.innerHTML = docLinkHtml;\n",
              "          element.appendChild(docLink);\n",
              "        }\n",
              "      </script>\n",
              "    </div>\n",
              "  </div>\n",
              "  "
            ]
          },
          "metadata": {},
          "execution_count": 9
        }
      ]
    },
    {
      "cell_type": "code",
      "source": [
        "#One Hot Encode All the columns you can\n",
        "#Age\n",
        "age_category = pd.get_dummies(df['AgeCategory'])\n",
        "df = pd.concat([df, age_category], axis=1)\n",
        "df = df.drop(['AgeCategory'], axis=1)\n",
        "#Gen Health\n",
        "race = pd.get_dummies(df['GenHealth'])\n",
        "df = pd.concat([df, race], axis=1)\n",
        "df = df.drop(['GenHealth'], axis=1)\n",
        "#Race\n",
        "ethnicity = pd.get_dummies(df['Race'])\n",
        "df = pd.concat([df, ethnicity], axis=1)\n",
        "df = df.drop(['Race'], axis=1)\n",
        "#Sex\n",
        "sex = pd.get_dummies(df['Sex'])\n",
        "df = pd.concat([df, sex], axis=1)\n",
        "df = df.drop(['Sex'], axis=1)\n"
      ],
      "metadata": {
        "id": "wnDSis7m4d06"
      },
      "execution_count": null,
      "outputs": []
    },
    {
      "cell_type": "code",
      "source": [
        "#Show the # of Variables and Observations\n",
        "df"
      ],
      "metadata": {
        "id": "ry-wrvhLHKnh",
        "colab": {
          "base_uri": "https://localhost:8080/",
          "height": 424
        },
        "outputId": "71f20a17-afaa-45cf-8ebe-e9b6291ee393"
      },
      "execution_count": null,
      "outputs": [
        {
          "output_type": "execute_result",
          "data": {
            "text/plain": [
              "        HeartDisease    BMI  Smoking  AlcoholDrinking  Stroke  DiffWalking  \\\n",
              "0                  0  16.60        1                0       0            0   \n",
              "1                  0  20.34        0                0       1            0   \n",
              "2                  0  26.58        1                0       0            0   \n",
              "3                  0  24.21        0                0       0            0   \n",
              "4                  0  23.71        0                0       0            1   \n",
              "...              ...    ...      ...              ...     ...          ...   \n",
              "319790             1  27.41        1                0       0            1   \n",
              "319791             0  29.84        1                0       0            0   \n",
              "319792             0  24.24        0                0       0            0   \n",
              "319793             0  32.81        0                0       0            0   \n",
              "319794             0  46.56        0                0       0            0   \n",
              "\n",
              "        Diabetic  PhysicalActivity  SleepTime  Asthma  ...  Poor  Very good  \\\n",
              "0              1                 1        5.0       1  ...     0          1   \n",
              "1              0                 1        7.0       0  ...     0          1   \n",
              "2              1                 1        8.0       1  ...     0          0   \n",
              "3              0                 0        6.0       0  ...     0          0   \n",
              "4              0                 1        8.0       0  ...     0          1   \n",
              "...          ...               ...        ...     ...  ...   ...        ...   \n",
              "319790         1                 0        6.0       1  ...     0          0   \n",
              "319791         0                 1        5.0       1  ...     0          1   \n",
              "319792         0                 1        6.0       0  ...     0          0   \n",
              "319793         0                 0       12.0       0  ...     0          0   \n",
              "319794         0                 1        8.0       0  ...     0          0   \n",
              "\n",
              "        American Indian/Alaskan Native  Asian  Black  Hispanic  Other  White  \\\n",
              "0                                    0      0      0         0      0      1   \n",
              "1                                    0      0      0         0      0      1   \n",
              "2                                    0      0      0         0      0      1   \n",
              "3                                    0      0      0         0      0      1   \n",
              "4                                    0      0      0         0      0      1   \n",
              "...                                ...    ...    ...       ...    ...    ...   \n",
              "319790                               0      0      0         1      0      0   \n",
              "319791                               0      0      0         1      0      0   \n",
              "319792                               0      0      0         1      0      0   \n",
              "319793                               0      0      0         1      0      0   \n",
              "319794                               0      0      0         1      0      0   \n",
              "\n",
              "        Female  Male  \n",
              "0            1     0  \n",
              "1            1     0  \n",
              "2            0     1  \n",
              "3            1     0  \n",
              "4            1     0  \n",
              "...        ...   ...  \n",
              "319790       0     1  \n",
              "319791       0     1  \n",
              "319792       1     0  \n",
              "319793       1     0  \n",
              "319794       1     0  \n",
              "\n",
              "[310426 rows x 28 columns]"
            ],
            "text/html": [
              "\n",
              "  <div id=\"df-97ada2be-f414-464c-8c3f-70fb8b16262c\">\n",
              "    <div class=\"colab-df-container\">\n",
              "      <div>\n",
              "<style scoped>\n",
              "    .dataframe tbody tr th:only-of-type {\n",
              "        vertical-align: middle;\n",
              "    }\n",
              "\n",
              "    .dataframe tbody tr th {\n",
              "        vertical-align: top;\n",
              "    }\n",
              "\n",
              "    .dataframe thead th {\n",
              "        text-align: right;\n",
              "    }\n",
              "</style>\n",
              "<table border=\"1\" class=\"dataframe\">\n",
              "  <thead>\n",
              "    <tr style=\"text-align: right;\">\n",
              "      <th></th>\n",
              "      <th>HeartDisease</th>\n",
              "      <th>BMI</th>\n",
              "      <th>Smoking</th>\n",
              "      <th>AlcoholDrinking</th>\n",
              "      <th>Stroke</th>\n",
              "      <th>DiffWalking</th>\n",
              "      <th>Diabetic</th>\n",
              "      <th>PhysicalActivity</th>\n",
              "      <th>SleepTime</th>\n",
              "      <th>Asthma</th>\n",
              "      <th>...</th>\n",
              "      <th>Poor</th>\n",
              "      <th>Very good</th>\n",
              "      <th>American Indian/Alaskan Native</th>\n",
              "      <th>Asian</th>\n",
              "      <th>Black</th>\n",
              "      <th>Hispanic</th>\n",
              "      <th>Other</th>\n",
              "      <th>White</th>\n",
              "      <th>Female</th>\n",
              "      <th>Male</th>\n",
              "    </tr>\n",
              "  </thead>\n",
              "  <tbody>\n",
              "    <tr>\n",
              "      <th>0</th>\n",
              "      <td>0</td>\n",
              "      <td>16.60</td>\n",
              "      <td>1</td>\n",
              "      <td>0</td>\n",
              "      <td>0</td>\n",
              "      <td>0</td>\n",
              "      <td>1</td>\n",
              "      <td>1</td>\n",
              "      <td>5.0</td>\n",
              "      <td>1</td>\n",
              "      <td>...</td>\n",
              "      <td>0</td>\n",
              "      <td>1</td>\n",
              "      <td>0</td>\n",
              "      <td>0</td>\n",
              "      <td>0</td>\n",
              "      <td>0</td>\n",
              "      <td>0</td>\n",
              "      <td>1</td>\n",
              "      <td>1</td>\n",
              "      <td>0</td>\n",
              "    </tr>\n",
              "    <tr>\n",
              "      <th>1</th>\n",
              "      <td>0</td>\n",
              "      <td>20.34</td>\n",
              "      <td>0</td>\n",
              "      <td>0</td>\n",
              "      <td>1</td>\n",
              "      <td>0</td>\n",
              "      <td>0</td>\n",
              "      <td>1</td>\n",
              "      <td>7.0</td>\n",
              "      <td>0</td>\n",
              "      <td>...</td>\n",
              "      <td>0</td>\n",
              "      <td>1</td>\n",
              "      <td>0</td>\n",
              "      <td>0</td>\n",
              "      <td>0</td>\n",
              "      <td>0</td>\n",
              "      <td>0</td>\n",
              "      <td>1</td>\n",
              "      <td>1</td>\n",
              "      <td>0</td>\n",
              "    </tr>\n",
              "    <tr>\n",
              "      <th>2</th>\n",
              "      <td>0</td>\n",
              "      <td>26.58</td>\n",
              "      <td>1</td>\n",
              "      <td>0</td>\n",
              "      <td>0</td>\n",
              "      <td>0</td>\n",
              "      <td>1</td>\n",
              "      <td>1</td>\n",
              "      <td>8.0</td>\n",
              "      <td>1</td>\n",
              "      <td>...</td>\n",
              "      <td>0</td>\n",
              "      <td>0</td>\n",
              "      <td>0</td>\n",
              "      <td>0</td>\n",
              "      <td>0</td>\n",
              "      <td>0</td>\n",
              "      <td>0</td>\n",
              "      <td>1</td>\n",
              "      <td>0</td>\n",
              "      <td>1</td>\n",
              "    </tr>\n",
              "    <tr>\n",
              "      <th>3</th>\n",
              "      <td>0</td>\n",
              "      <td>24.21</td>\n",
              "      <td>0</td>\n",
              "      <td>0</td>\n",
              "      <td>0</td>\n",
              "      <td>0</td>\n",
              "      <td>0</td>\n",
              "      <td>0</td>\n",
              "      <td>6.0</td>\n",
              "      <td>0</td>\n",
              "      <td>...</td>\n",
              "      <td>0</td>\n",
              "      <td>0</td>\n",
              "      <td>0</td>\n",
              "      <td>0</td>\n",
              "      <td>0</td>\n",
              "      <td>0</td>\n",
              "      <td>0</td>\n",
              "      <td>1</td>\n",
              "      <td>1</td>\n",
              "      <td>0</td>\n",
              "    </tr>\n",
              "    <tr>\n",
              "      <th>4</th>\n",
              "      <td>0</td>\n",
              "      <td>23.71</td>\n",
              "      <td>0</td>\n",
              "      <td>0</td>\n",
              "      <td>0</td>\n",
              "      <td>1</td>\n",
              "      <td>0</td>\n",
              "      <td>1</td>\n",
              "      <td>8.0</td>\n",
              "      <td>0</td>\n",
              "      <td>...</td>\n",
              "      <td>0</td>\n",
              "      <td>1</td>\n",
              "      <td>0</td>\n",
              "      <td>0</td>\n",
              "      <td>0</td>\n",
              "      <td>0</td>\n",
              "      <td>0</td>\n",
              "      <td>1</td>\n",
              "      <td>1</td>\n",
              "      <td>0</td>\n",
              "    </tr>\n",
              "    <tr>\n",
              "      <th>...</th>\n",
              "      <td>...</td>\n",
              "      <td>...</td>\n",
              "      <td>...</td>\n",
              "      <td>...</td>\n",
              "      <td>...</td>\n",
              "      <td>...</td>\n",
              "      <td>...</td>\n",
              "      <td>...</td>\n",
              "      <td>...</td>\n",
              "      <td>...</td>\n",
              "      <td>...</td>\n",
              "      <td>...</td>\n",
              "      <td>...</td>\n",
              "      <td>...</td>\n",
              "      <td>...</td>\n",
              "      <td>...</td>\n",
              "      <td>...</td>\n",
              "      <td>...</td>\n",
              "      <td>...</td>\n",
              "      <td>...</td>\n",
              "      <td>...</td>\n",
              "    </tr>\n",
              "    <tr>\n",
              "      <th>319790</th>\n",
              "      <td>1</td>\n",
              "      <td>27.41</td>\n",
              "      <td>1</td>\n",
              "      <td>0</td>\n",
              "      <td>0</td>\n",
              "      <td>1</td>\n",
              "      <td>1</td>\n",
              "      <td>0</td>\n",
              "      <td>6.0</td>\n",
              "      <td>1</td>\n",
              "      <td>...</td>\n",
              "      <td>0</td>\n",
              "      <td>0</td>\n",
              "      <td>0</td>\n",
              "      <td>0</td>\n",
              "      <td>0</td>\n",
              "      <td>1</td>\n",
              "      <td>0</td>\n",
              "      <td>0</td>\n",
              "      <td>0</td>\n",
              "      <td>1</td>\n",
              "    </tr>\n",
              "    <tr>\n",
              "      <th>319791</th>\n",
              "      <td>0</td>\n",
              "      <td>29.84</td>\n",
              "      <td>1</td>\n",
              "      <td>0</td>\n",
              "      <td>0</td>\n",
              "      <td>0</td>\n",
              "      <td>0</td>\n",
              "      <td>1</td>\n",
              "      <td>5.0</td>\n",
              "      <td>1</td>\n",
              "      <td>...</td>\n",
              "      <td>0</td>\n",
              "      <td>1</td>\n",
              "      <td>0</td>\n",
              "      <td>0</td>\n",
              "      <td>0</td>\n",
              "      <td>1</td>\n",
              "      <td>0</td>\n",
              "      <td>0</td>\n",
              "      <td>0</td>\n",
              "      <td>1</td>\n",
              "    </tr>\n",
              "    <tr>\n",
              "      <th>319792</th>\n",
              "      <td>0</td>\n",
              "      <td>24.24</td>\n",
              "      <td>0</td>\n",
              "      <td>0</td>\n",
              "      <td>0</td>\n",
              "      <td>0</td>\n",
              "      <td>0</td>\n",
              "      <td>1</td>\n",
              "      <td>6.0</td>\n",
              "      <td>0</td>\n",
              "      <td>...</td>\n",
              "      <td>0</td>\n",
              "      <td>0</td>\n",
              "      <td>0</td>\n",
              "      <td>0</td>\n",
              "      <td>0</td>\n",
              "      <td>1</td>\n",
              "      <td>0</td>\n",
              "      <td>0</td>\n",
              "      <td>1</td>\n",
              "      <td>0</td>\n",
              "    </tr>\n",
              "    <tr>\n",
              "      <th>319793</th>\n",
              "      <td>0</td>\n",
              "      <td>32.81</td>\n",
              "      <td>0</td>\n",
              "      <td>0</td>\n",
              "      <td>0</td>\n",
              "      <td>0</td>\n",
              "      <td>0</td>\n",
              "      <td>0</td>\n",
              "      <td>12.0</td>\n",
              "      <td>0</td>\n",
              "      <td>...</td>\n",
              "      <td>0</td>\n",
              "      <td>0</td>\n",
              "      <td>0</td>\n",
              "      <td>0</td>\n",
              "      <td>0</td>\n",
              "      <td>1</td>\n",
              "      <td>0</td>\n",
              "      <td>0</td>\n",
              "      <td>1</td>\n",
              "      <td>0</td>\n",
              "    </tr>\n",
              "    <tr>\n",
              "      <th>319794</th>\n",
              "      <td>0</td>\n",
              "      <td>46.56</td>\n",
              "      <td>0</td>\n",
              "      <td>0</td>\n",
              "      <td>0</td>\n",
              "      <td>0</td>\n",
              "      <td>0</td>\n",
              "      <td>1</td>\n",
              "      <td>8.0</td>\n",
              "      <td>0</td>\n",
              "      <td>...</td>\n",
              "      <td>0</td>\n",
              "      <td>0</td>\n",
              "      <td>0</td>\n",
              "      <td>0</td>\n",
              "      <td>0</td>\n",
              "      <td>1</td>\n",
              "      <td>0</td>\n",
              "      <td>0</td>\n",
              "      <td>1</td>\n",
              "      <td>0</td>\n",
              "    </tr>\n",
              "  </tbody>\n",
              "</table>\n",
              "<p>310426 rows × 28 columns</p>\n",
              "</div>\n",
              "      <button class=\"colab-df-convert\" onclick=\"convertToInteractive('df-97ada2be-f414-464c-8c3f-70fb8b16262c')\"\n",
              "              title=\"Convert this dataframe to an interactive table.\"\n",
              "              style=\"display:none;\">\n",
              "        \n",
              "  <svg xmlns=\"http://www.w3.org/2000/svg\" height=\"24px\"viewBox=\"0 0 24 24\"\n",
              "       width=\"24px\">\n",
              "    <path d=\"M0 0h24v24H0V0z\" fill=\"none\"/>\n",
              "    <path d=\"M18.56 5.44l.94 2.06.94-2.06 2.06-.94-2.06-.94-.94-2.06-.94 2.06-2.06.94zm-11 1L8.5 8.5l.94-2.06 2.06-.94-2.06-.94L8.5 2.5l-.94 2.06-2.06.94zm10 10l.94 2.06.94-2.06 2.06-.94-2.06-.94-.94-2.06-.94 2.06-2.06.94z\"/><path d=\"M17.41 7.96l-1.37-1.37c-.4-.4-.92-.59-1.43-.59-.52 0-1.04.2-1.43.59L10.3 9.45l-7.72 7.72c-.78.78-.78 2.05 0 2.83L4 21.41c.39.39.9.59 1.41.59.51 0 1.02-.2 1.41-.59l7.78-7.78 2.81-2.81c.8-.78.8-2.07 0-2.86zM5.41 20L4 18.59l7.72-7.72 1.47 1.35L5.41 20z\"/>\n",
              "  </svg>\n",
              "      </button>\n",
              "      \n",
              "  <style>\n",
              "    .colab-df-container {\n",
              "      display:flex;\n",
              "      flex-wrap:wrap;\n",
              "      gap: 12px;\n",
              "    }\n",
              "\n",
              "    .colab-df-convert {\n",
              "      background-color: #E8F0FE;\n",
              "      border: none;\n",
              "      border-radius: 50%;\n",
              "      cursor: pointer;\n",
              "      display: none;\n",
              "      fill: #1967D2;\n",
              "      height: 32px;\n",
              "      padding: 0 0 0 0;\n",
              "      width: 32px;\n",
              "    }\n",
              "\n",
              "    .colab-df-convert:hover {\n",
              "      background-color: #E2EBFA;\n",
              "      box-shadow: 0px 1px 2px rgba(60, 64, 67, 0.3), 0px 1px 3px 1px rgba(60, 64, 67, 0.15);\n",
              "      fill: #174EA6;\n",
              "    }\n",
              "\n",
              "    [theme=dark] .colab-df-convert {\n",
              "      background-color: #3B4455;\n",
              "      fill: #D2E3FC;\n",
              "    }\n",
              "\n",
              "    [theme=dark] .colab-df-convert:hover {\n",
              "      background-color: #434B5C;\n",
              "      box-shadow: 0px 1px 3px 1px rgba(0, 0, 0, 0.15);\n",
              "      filter: drop-shadow(0px 1px 2px rgba(0, 0, 0, 0.3));\n",
              "      fill: #FFFFFF;\n",
              "    }\n",
              "  </style>\n",
              "\n",
              "      <script>\n",
              "        const buttonEl =\n",
              "          document.querySelector('#df-97ada2be-f414-464c-8c3f-70fb8b16262c button.colab-df-convert');\n",
              "        buttonEl.style.display =\n",
              "          google.colab.kernel.accessAllowed ? 'block' : 'none';\n",
              "\n",
              "        async function convertToInteractive(key) {\n",
              "          const element = document.querySelector('#df-97ada2be-f414-464c-8c3f-70fb8b16262c');\n",
              "          const dataTable =\n",
              "            await google.colab.kernel.invokeFunction('convertToInteractive',\n",
              "                                                     [key], {});\n",
              "          if (!dataTable) return;\n",
              "\n",
              "          const docLinkHtml = 'Like what you see? Visit the ' +\n",
              "            '<a target=\"_blank\" href=https://colab.research.google.com/notebooks/data_table.ipynb>data table notebook</a>'\n",
              "            + ' to learn more about interactive tables.';\n",
              "          element.innerHTML = '';\n",
              "          dataTable['output_type'] = 'display_data';\n",
              "          await google.colab.output.renderOutput(dataTable, element);\n",
              "          const docLink = document.createElement('div');\n",
              "          docLink.innerHTML = docLinkHtml;\n",
              "          element.appendChild(docLink);\n",
              "        }\n",
              "      </script>\n",
              "    </div>\n",
              "  </div>\n",
              "  "
            ]
          },
          "metadata": {},
          "execution_count": 11
        }
      ]
    },
    {
      "cell_type": "markdown",
      "metadata": {
        "id": "tw14M8c7ROWJ"
      },
      "source": [
        "# Proposed Solution\n",
        "\n",
        "Our team will be running a logistic regression and a random decision forest. Logistic regression models the probability of discrete outcomes and is useful for classification tasks. We will be classifying the 18 variables to 'yes' or 'no' to predict the major factors that influence heart disease. The other algorithm we will be running is random decision forest, which is made up of many individual decision trees. Each individual tree in the random forest represents a variable and outputs a class prediction. The variable that ends up with the most votes will be our model’s prediction and the most significant factor that leads to heart disease."
      ]
    },
    {
      "cell_type": "markdown",
      "source": [
        "We decided to remove the 'PhysicalHealth' and 'MentalHealth' columns because they were the number of days an individual felt like their physical and mental health was not good. This could be due to a variety of factors that are not all included as columns in our data set. We decided to keep 'GenHealth' as it was a more useful representation of an individual's health due to it being a categorical variable on a likert scale. We can categorize individuals under a certain health category.\n",
        "\n",
        "We removed rows from the 'Diabetic' column because some rows contained a conditional 'Yes' or 'No', meaning it contained individuals who were borderline diabetic or diabetic when pregnant. We removed them because keeping certain rows could have unintentionally skewed other variables such as an individual's BMI. We also removed some rows where individuals recorded their average 'SleepTime' to be 24 hours which should be impossible."
      ],
      "metadata": {
        "id": "RMupkdSHKWZ8"
      }
    },
    {
      "cell_type": "markdown",
      "metadata": {
        "id": "cc4PxMTJROWK"
      },
      "source": [
        "# Evaluation Metrics\n",
        "\n",
        "Our team will use precision as our evaluation metric. Because heart disease is a condition that endangers lives, using precision would reduce false negatives, decreasing the chance of a patient with heart disease to have a negative result. However, increasing precision would decrease recall, increasing the number of False Positives (the chance a patient without heart disease has a positive result). Precision is calculated by dividing the sum of the True Positives by the sum of all of the Predicted Conditions (True Positives + (True Positives + False Positives)).\n",
        "\n",
        "Another evaluation metric our team can use is the F1 score. The F1 score would take into account both precision and recall to reduce both false positives and false negatives. It is calculated by dividing the True Positives / True Positives + 0.5(False Positives + False Negatives)."
      ]
    },
    {
      "cell_type": "markdown",
      "source": [
        "# Results"
      ],
      "metadata": {
        "id": "wcIUSM4eg5bi"
      }
    },
    {
      "cell_type": "markdown",
      "source": [
        "## Analysis of the Problem\n",
        "\n",
        "\n",
        "For our problem of detecting Heart Disease in patients, it is crucial to ensure that the number of false negatives is as low as posible -- even potentially at the cost of more false positives. This is because we would much rather predict someone who doesn't have heart disease to have heart disese rather than the opposite. There are much more stakes for not detecting the disease since we will be ultimately endangering someone's life. In order to start working on this problem, we have decided to use Logisitic Regression as our baseline model and to compare it against more powerful machine learning models (including K-Nearest Neighbors, KMeans, Decision Tree, and Random Forest) to determine the best algorithm. The reason for using these various models is because there is no one answer why one model would be better than another type of model. Therefore, we aim to determine the best model for predicting heart disease in hopes of helping health care professionals.\n",
        "\n"
      ],
      "metadata": {
        "id": "wXTUCPsMg0Hd"
      }
    },
    {
      "cell_type": "markdown",
      "source": [
        "## Model #1: Baseline Model\n"
      ],
      "metadata": {
        "id": "jH3iPJct_6NE"
      }
    },
    {
      "cell_type": "markdown",
      "source": [
        "### Logistic Regression"
      ],
      "metadata": {
        "id": "ce4eWaoxCJN5"
      }
    },
    {
      "cell_type": "code",
      "source": [
        "import numpy as np\n",
        "import sklearn\n",
        "from sklearn.datasets import make_classification\n",
        "from sklearn.model_selection import train_test_split\n",
        "\n",
        "X = df.drop(['HeartDisease'], axis=1)\n",
        "y = df['HeartDisease']\n",
        "\n",
        "# split train and test data\n",
        "X_train, X_test, y_train, y_test = train_test_split(X, y, random_state=42)"
      ],
      "metadata": {
        "id": "HNiQa8YPCLqt"
      },
      "execution_count": null,
      "outputs": []
    },
    {
      "cell_type": "code",
      "source": [
        "from sklearn.linear_model import LogisticRegression\n",
        "\n",
        "# fit logtistic regression model\n",
        "clf = LogisticRegression(random_state=42, max_iter=10000).fit(X_train, y_train)\n",
        "\n",
        "# make predicitions\n",
        "y_pred = clf.predict(X_test)"
      ],
      "metadata": {
        "id": "yZAFrXGXCN-k"
      },
      "execution_count": null,
      "outputs": []
    },
    {
      "cell_type": "code",
      "source": [
        "from sklearn.metrics import precision_score\n",
        "from sklearn.metrics import recall_score\n",
        "from sklearn.metrics import f1_score\n",
        "\n",
        "# model evaluation\n",
        "precision = precision_score(y_test, y_pred)\n",
        "recall = recall_score(y_test, y_pred)\n",
        "f1 = f1_score(y_test, y_pred)\n",
        "              \n",
        "print('Precision: %.3f, Recall: %.3f, F1: %.3f' %(precision, recall, f1))"
      ],
      "metadata": {
        "id": "lKy0IEMACQxy",
        "colab": {
          "base_uri": "https://localhost:8080/"
        },
        "outputId": "83e95bb8-4958-44fb-8b54-1343780e1a7d"
      },
      "execution_count": null,
      "outputs": [
        {
          "output_type": "stream",
          "name": "stdout",
          "text": [
            "Precision: 0.542, Recall: 0.102, F1: 0.171\n"
          ]
        }
      ]
    },
    {
      "cell_type": "markdown",
      "source": [
        "From the above evaluation scores, we noticed that the baseline Logistic model performs quite poorly doing the heart disease prediction. This might be because the linear decision boundary that this model generates can be too simple. Therefore, we will look at other models that generate a non-linear decision boundary below.  "
      ],
      "metadata": {
        "id": "KItfirx-b7fJ"
      }
    },
    {
      "cell_type": "code",
      "source": [
        "from sklearn.model_selection import learning_curve\n",
        "\n",
        "train_sizes, train_scores, valid_scores = learning_curve(clf, X_train, y_train, cv=5)\n",
        "plt.plot(train_sizes, np.mean(train_scores, axis=1), label=\"Training score\")\n",
        "plt.plot(train_sizes, np.mean(valid_scores, axis=1), label=\"Cross-validation score\")\n",
        "plt.legend()\n",
        "plt.show()"
      ],
      "metadata": {
        "id": "4CpLCIADQYXr",
        "colab": {
          "base_uri": "https://localhost:8080/",
          "height": 265
        },
        "outputId": "24f5617b-b415-4e11-a223-f240b8960322"
      },
      "execution_count": null,
      "outputs": [
        {
          "output_type": "display_data",
          "data": {
            "text/plain": [
              "<Figure size 432x288 with 1 Axes>"
            ],
            "image/png": "[encoded data removed]"
          },
          "metadata": {
            "needs_background": "light"
          }
        }
      ]
    },
    {
      "cell_type": "markdown",
      "source": [
        "Looking at the above learning curve, we can see that it asymptotes at around 60,000 data points in the training set. Therefore, we concluded that Logistic Regression would do well with KFolds Cross Validation (we perform this cross validation in the Cross validation section below)."
      ],
      "metadata": {
        "id": "lfGLdU8peIGl"
      }
    },
    {
      "cell_type": "markdown",
      "source": [
        "## Model #2: Random Forest Classifier Model"
      ],
      "metadata": {
        "id": "92VIaqoi-rDS"
      }
    },
    {
      "cell_type": "code",
      "source": [
        "from sklearn.metrics import classification_report, confusion_matrix\n",
        "from sklearn.model_selection import train_test_split\n",
        "from sklearn.metrics import accuracy_score\n",
        "from sklearn.ensemble import RandomForestClassifier\n"
      ],
      "metadata": {
        "id": "XYlk2hDt-0pE"
      },
      "execution_count": null,
      "outputs": []
    },
    {
      "cell_type": "code",
      "source": [
        "# split the dataset into train and test sets\n",
        "# X_train, X_test, y_train, y_test = train_test_split(X, y, test_size=0.33)\n",
        "print(X_train.shape, X_test.shape, y_train.shape, y_test.shape)"
      ],
      "metadata": {
        "id": "3ud3NAm_-3gA",
        "colab": {
          "base_uri": "https://localhost:8080/"
        },
        "outputId": "44caa1f3-ab0a-4b4b-c348-60cc594bdd36"
      },
      "execution_count": null,
      "outputs": [
        {
          "output_type": "stream",
          "name": "stdout",
          "text": [
            "(232819, 27) (77607, 27) (232819,) (77607,)\n"
          ]
        }
      ]
    },
    {
      "cell_type": "code",
      "source": [
        "#Run a Random Forest on the dataset\n",
        "model = RandomForestClassifier(random_state=42)\n",
        "model.fit(X_train, y_train)\n",
        "# yPred value that will make a prediction on the dataset\n",
        "yPred = model.predict(X_test)\n",
        "# Accuracy score to evaulate our prediction\n",
        "acc = accuracy_score(y_test, yPred)\n",
        "print('Accuracy: %.3f' % acc)"
      ],
      "metadata": {
        "id": "LJbje95C-554",
        "colab": {
          "base_uri": "https://localhost:8080/"
        },
        "outputId": "817a2d25-1b75-4957-e5d2-aa8e1a5a845e"
      },
      "execution_count": null,
      "outputs": [
        {
          "output_type": "stream",
          "name": "stdout",
          "text": [
            "Accuracy: 0.894\n"
          ]
        }
      ]
    },
    {
      "cell_type": "code",
      "source": [
        "# Get Precisin Score for model\n",
        "from sklearn.metrics import precision_score\n",
        "precision_score(y_test, yPred, average=None)"
      ],
      "metadata": {
        "id": "FxGq_WPgN3KV",
        "colab": {
          "base_uri": "https://localhost:8080/"
        },
        "outputId": "4e940f52-11b4-4874-f683-18459d69fc56"
      },
      "execution_count": null,
      "outputs": [
        {
          "output_type": "execute_result",
          "data": {
            "text/plain": [
              "array([0.92519194, 0.29420849])"
            ]
          },
          "metadata": {},
          "execution_count": 19
        }
      ]
    },
    {
      "cell_type": "code",
      "source": [
        "# Get Recall Score for model\n",
        "from sklearn.metrics import recall_score\n",
        "recall_score(y_test, yPred, average=None)"
      ],
      "metadata": {
        "id": "z6dC2RLCN6nx",
        "colab": {
          "base_uri": "https://localhost:8080/"
        },
        "outputId": "f10a66f1-7bd0-4326-d9bc-0cc7031deb2e"
      },
      "execution_count": null,
      "outputs": [
        {
          "output_type": "execute_result",
          "data": {
            "text/plain": [
              "array([0.96135252, 0.17167318])"
            ]
          },
          "metadata": {},
          "execution_count": 20
        }
      ]
    },
    {
      "cell_type": "code",
      "source": [
        "# Get F1 Score for model\n",
        "from sklearn.metrics import f1_score\n",
        "f1_score(y_test, yPred, average=None)"
      ],
      "metadata": {
        "id": "ithr7_ZoPGfg",
        "colab": {
          "base_uri": "https://localhost:8080/"
        },
        "outputId": "a31c950d-af63-449d-e9b0-5a0ed3cee7be"
      },
      "execution_count": null,
      "outputs": [
        {
          "output_type": "execute_result",
          "data": {
            "text/plain": [
              "array([0.94292567, 0.21682633])"
            ]
          },
          "metadata": {},
          "execution_count": 21
        }
      ]
    },
    {
      "cell_type": "markdown",
      "source": [
        "The above scores show that the evaluation metrics for detecting a patient with heart disease (precision: 0.92519194, recall: 0.96135252, f1-score: 0.94292567) perform well overall. The random forest model performed significantly better than the Logistic Regression. This allows us to assume that the more flexible (soft) decision boundary might be more predictive with our heart disease dataset than a hard decision boundary.\n",
        "\n",
        "We now move on to decide what cross validation method would suit random forest the best. "
      ],
      "metadata": {
        "id": "7bGB3vNSgwRP"
      }
    },
    {
      "cell_type": "code",
      "source": [
        "train_sizes, train_scores, valid_scores = learning_curve(model, X_train, y_train, cv=5)\n",
        "plt.plot(train_sizes, np.mean(train_scores, axis=1), label=\"Training score\")\n",
        "plt.plot(train_sizes, np.mean(valid_scores, axis=1), label=\"Cross-validation score\")\n",
        "plt.legend()\n",
        "plt.show()"
      ],
      "metadata": {
        "id": "bdQ-xCCYLu4u",
        "colab": {
          "base_uri": "https://localhost:8080/",
          "height": 266
        },
        "outputId": "92d13fb4-681d-44ce-f103-e7deb9aff359"
      },
      "execution_count": null,
      "outputs": [
        {
          "output_type": "display_data",
          "data": {
            "text/plain": [
              "<Figure size 432x288 with 1 Axes>"
            ],
            "image/png": "[encoded data removed]"
          },
          "metadata": {
            "needs_background": "light"
          }
        }
      ]
    },
    {
      "cell_type": "markdown",
      "source": [
        "The learning curve above shows us that we might not have enough training data as it is not clear whether or not the learning curve asymptotes. However, as the training score is above the cross-validation score, it is likely that the random forest model is overfitting the data. The problem with overfitting, is that the more specialized the model becomes to training data, the less well it is able to generalize to new data, resulting in an increase in generalization error. From this we move on to a less specialized model: the decision tree. "
      ],
      "metadata": {
        "id": "28VF897qgvOm"
      }
    },
    {
      "cell_type": "markdown",
      "source": [
        "## Model #3: Decision Tree"
      ],
      "metadata": {
        "id": "XtbNCtVyAYSO"
      }
    },
    {
      "cell_type": "code",
      "source": [
        "from sklearn.tree import DecisionTreeClassifier\n",
        "from sklearn.model_selection import train_test_split\n",
        "\n",
        "# Split train/test data\n",
        "X = df.drop(columns=\"HeartDisease\")\n",
        "y = df[\"HeartDisease\"]\n",
        "feature_names = X.columns\n",
        "labels = y.unique()\n",
        "strings = [str(x) for x in labels]\n",
        "# X_train, X_test, y_train, y_test = train_test_split(X, y, test_size=0.33, random_state=42)\n",
        "\n",
        "# baseline tree fit\n",
        "clf_dt = DecisionTreeClassifier(max_depth =3, random_state = 42)\n",
        "clf_dt.fit(X_train, y_train)"
      ],
      "metadata": {
        "id": "Kxbm1F5wAaEV",
        "colab": {
          "base_uri": "https://localhost:8080/"
        },
        "outputId": "e2ef1169-9997-4e2c-efd9-a0185d2a89b3"
      },
      "execution_count": null,
      "outputs": [
        {
          "output_type": "execute_result",
          "data": {
            "text/plain": [
              "DecisionTreeClassifier(max_depth=3, random_state=42)"
            ]
          },
          "metadata": {},
          "execution_count": 23
        }
      ]
    },
    {
      "cell_type": "code",
      "source": [
        "# Test the Decision Tree\n",
        "test_pred_decision_tree = clf_dt.predict(X_test)"
      ],
      "metadata": {
        "id": "v3bVWba5BOea"
      },
      "execution_count": null,
      "outputs": []
    },
    {
      "cell_type": "code",
      "source": [
        "#import the relevant packages\n",
        "from sklearn import metrics\n",
        "import seaborn as sns\n",
        "import matplotlib.pyplot as plt\n",
        "#get the confusion matrix\n",
        "confusion_matrix = metrics.confusion_matrix(y_test,  \n",
        "                                            test_pred_decision_tree)"
      ],
      "metadata": {
        "id": "kBt2pa7pBRpA"
      },
      "execution_count": null,
      "outputs": []
    },
    {
      "cell_type": "code",
      "source": [
        "# Precision \n",
        "precision = metrics.precision_score(y_test,\n",
        "                                   test_pred_decision_tree, \n",
        "                                   average=None)\n",
        "# turn it into a dataframe\n",
        "precision_results = pd.DataFrame(precision, index=labels)\n",
        "# rename the results column\n",
        "precision_results.rename(columns={0:'precision'}, inplace =True)\n",
        "\n",
        "# Recall \n",
        "recall = metrics.recall_score(y_test, test_pred_decision_tree, \n",
        "                              average =None)\n",
        "recall_results = pd.DataFrame(recall, index= labels)\n",
        "recall_results.rename(columns ={0:'Recall'}, inplace =True)\n",
        "\n",
        "# F1-Score\n",
        "f1 = metrics.f1_score(y_test, test_pred_decision_tree, average=None)\n",
        "f1_results = pd.DataFrame(f1, index=labels)\n",
        "\n",
        "f1_results.rename(columns={0:'f1'}, inplace=True)\n",
        "\n",
        "print(\"Decision Tree Evaluation Scores: \\n\")\n",
        "print(precision_results.join(recall_results.join(f1_results)))"
      ],
      "metadata": {
        "id": "GFgREAYPBVfM",
        "colab": {
          "base_uri": "https://localhost:8080/"
        },
        "outputId": "e094930c-1d9f-43b0-e137-a6f5e3adbf81"
      },
      "execution_count": null,
      "outputs": [
        {
          "output_type": "stream",
          "name": "stdout",
          "text": [
            "Decision Tree Evaluation Scores: \n",
            "\n",
            "   precision    Recall        f1\n",
            "0   0.916878  0.996885  0.955209\n",
            "1   0.526767  0.036948  0.069053\n"
          ]
        }
      ]
    },
    {
      "cell_type": "markdown",
      "source": [
        "The evaluation metrics of the Decision Tree perform roughly the same as the Random Forest. It is marginally worse for precision (Random Forest precision: 0.92519194) and marginally better for recall (Random Forest recall: 0.96135252). \n",
        "\n",
        "We then move on to look at the learning curve"
      ],
      "metadata": {
        "id": "l356Lw8diHn3"
      }
    },
    {
      "cell_type": "code",
      "source": [
        "train_sizes, train_scores, valid_scores = learning_curve(clf_dt, X_train, y_train, cv=5)\n",
        "plt.plot(train_sizes, np.mean(train_scores, axis=1), label=\"Training score\")\n",
        "plt.plot(train_sizes, np.mean(valid_scores, axis=1), label=\"Cross-validation score\")\n",
        "plt.legend()\n",
        "plt.show()"
      ],
      "metadata": {
        "id": "PdSAZxByMhjx",
        "colab": {
          "base_uri": "https://localhost:8080/",
          "height": 265
        },
        "outputId": "da10e387-1b75-432d-ef90-c4471859c3d2"
      },
      "execution_count": null,
      "outputs": [
        {
          "output_type": "display_data",
          "data": {
            "text/plain": [
              "<Figure size 432x288 with 1 Axes>"
            ],
            "image/png": "[encoded data removed]"
          },
          "metadata": {
            "needs_background": "light"
          }
        }
      ]
    },
    {
      "cell_type": "markdown",
      "source": [
        "From the learning curve above, we have concluded that performing KFolds Cross Validation would be feasible as the learning curve asymptotes. The Cross Validation is later done in the Model Selection section."
      ],
      "metadata": {
        "id": "1f_pcGOBmOei"
      }
    },
    {
      "cell_type": "markdown",
      "source": [
        "## Model #4: K-Nearest Neighbors"
      ],
      "metadata": {
        "id": "fWed9O2YCnjb"
      }
    },
    {
      "cell_type": "code",
      "source": [
        "from sklearn.neighbors import KNeighborsClassifier\n",
        "from sklearn.metrics import recall_score, f1_score\n",
        "\n",
        "# Create KNeighborsClassifier\n",
        "knn = KNeighborsClassifier()\n",
        "knn.fit(X_train, y_train)\n",
        "knn_predict = knn.predict(X_test)\n",
        "\n",
        "print(f'Accuracy: {accuracy_score(y_test, knn_predict)}')\n",
        "print(f'Precision: {precision_score(y_test, knn_predict)}')\n",
        "print(f'Recall: {recall_score(y_test, knn_predict)}')\n",
        "print(f'F-score: {f1_score(y_test, knn_predict)}')"
      ],
      "metadata": {
        "id": "bYortTZFCp3a",
        "colab": {
          "base_uri": "https://localhost:8080/"
        },
        "outputId": "9fed5a0c-1c1e-4ef2-ce63-9e1f42118504"
      },
      "execution_count": null,
      "outputs": [
        {
          "output_type": "stream",
          "name": "stdout",
          "text": [
            "Accuracy: 0.9078562500805339\n",
            "Precision: 0.373134328358209\n",
            "Recall: 0.10889155902673475\n",
            "F-score: 0.16858504825020346\n"
          ]
        }
      ]
    },
    {
      "cell_type": "code",
      "source": [
        "from sklearn.metrics import confusion_matrix\n",
        "\n",
        "cm  = confusion_matrix(y_test, knn_predict)\n",
        "ax = sns.heatmap(np.divide(cm, np.sum(cm)), annot=True, cmap='YlGnBu', fmt='.2%')\n",
        "\n",
        "# Plot details\n",
        "ax.set_title('K Nearest Neighbor Confusion Matrix');\n",
        "ax.set_xlabel('Predicted Values')\n",
        "ax.set_ylabel('Actual Values');\n",
        "ax.xaxis.set_ticklabels(['No Heart Disease', 'Heart Disease'])\n",
        "ax.yaxis.set_ticklabels(['No Heart Disease', 'Heart Disease'])\n",
        "\n",
        "plt.show()"
      ],
      "metadata": {
        "id": "kPqT6hG4CxBB",
        "colab": {
          "base_uri": "https://localhost:8080/",
          "height": 295
        },
        "outputId": "69a468bc-f872-416c-a183-1df3da1eff8f"
      },
      "execution_count": null,
      "outputs": [
        {
          "output_type": "display_data",
          "data": {
            "text/plain": [
              "<Figure size 432x288 with 2 Axes>"
            ],
            "image/png": "[encoded data removed]"
          },
          "metadata": {
            "needs_background": "light"
          }
        }
      ]
    },
    {
      "cell_type": "markdown",
      "source": [
        "Unfortunately, when we tried to run the learning curve on KNN, the algorithm timed out. Therefore, we decided that the KNN model might be too computationally intensive for solving the problem of heart disease prediction."
      ],
      "metadata": {
        "id": "ZtrLaRkWjjOm"
      }
    },
    {
      "cell_type": "markdown",
      "source": [
        "## Model Selection \n",
        "For this section, the main model that we want to tune is the Decision Tree. This is because this model wasn't overly computationally intensive (such as the KNN model), and it seemed like it have enough training data to perform KFolds Cross Validation. Furthermore, the above Decision Tree didn't overfit as much as the Random Forest. "
      ],
      "metadata": {
        "id": "KaFSJ52pABgD"
      }
    },
    {
      "cell_type": "markdown",
      "source": [
        "#### Tuning Hyper-Parameters For Decision Tree"
      ],
      "metadata": {
        "id": "Auo5OTADUSPL"
      }
    },
    {
      "cell_type": "code",
      "source": [
        "%%time\n",
        "from sklearn.model_selection import validation_curve\n",
        "from sklearn.tree import DecisionTreeRegressor\n",
        "from sklearn.model_selection import cross_validate, ShuffleSplit\n",
        "\n",
        "cv = ShuffleSplit(n_splits=30, test_size=0.2)\n",
        "\n",
        "max_depth_dt = [1, 2, 3, 4, 5, 6, 7]\n",
        "train_scores_dt, test_scores_dt = validation_curve(\n",
        "    clf_dt, X_test, y_test, param_name=\"max_depth\", param_range=max_depth_dt,\n",
        "    cv=5, scoring=\"neg_mean_absolute_error\", n_jobs=2)\n",
        "train_errors_dt, test_errors_dt = -train_scores_dt, -test_scores_dt"
      ],
      "metadata": {
        "id": "hlNQqe2iE6lG",
        "colab": {
          "base_uri": "https://localhost:8080/"
        },
        "outputId": "14992415-5481-495e-a3dd-efc3e1a9ce79"
      },
      "execution_count": null,
      "outputs": [
        {
          "output_type": "stream",
          "name": "stdout",
          "text": [
            "CPU times: user 432 ms, sys: 114 ms, total: 546 ms\n",
            "Wall time: 4.63 s\n"
          ]
        }
      ]
    },
    {
      "cell_type": "code",
      "source": [
        "plt.plot(max_depth_dt, train_errors_dt.mean(axis=1), label=\"Training error\")\n",
        "plt.plot(max_depth_dt, test_errors_dt.mean(axis=1), label=\"Testing error\")\n",
        "plt.legend()\n",
        "\n",
        "plt.xlabel(\"Maximum depth of decision tree\")\n",
        "plt.ylabel(\"Mean absolute error\")\n",
        "_ = plt.title(\"Validation curve for decision tree\")"
      ],
      "metadata": {
        "id": "kXZFtIxjUTRj",
        "colab": {
          "base_uri": "https://localhost:8080/",
          "height": 295
        },
        "outputId": "3d53d3f0-893e-481d-ea52-020aff2ac413"
      },
      "execution_count": null,
      "outputs": [
        {
          "output_type": "display_data",
          "data": {
            "text/plain": [
              "<Figure size 432x288 with 1 Axes>"
            ],
            "image/png": "[encoded data removed]"
          },
          "metadata": {
            "needs_background": "light"
          }
        }
      ]
    },
    {
      "cell_type": "markdown",
      "source": [
        "Suprisingly, the max_depth of the decision tree seems to overfit when the value is greater than 3. Using the Principle of Parsimony, we decided that it is best to keep the hyperparameter as the most simple given that the hyperparameters greater than 3 perform around the same. Given this new knowledge and the face that our initial decision tree model uses a max_depth of 3, we decided that we won't need to change the hyperparameters. "
      ],
      "metadata": {
        "id": "pTbVBaK-Xc0h"
      }
    },
    {
      "cell_type": "markdown",
      "source": [
        "#### Evalutating model performance for Logistic Regression using Cross Validation "
      ],
      "metadata": {
        "id": "G7_QGX16E6Dj"
      }
    },
    {
      "cell_type": "code",
      "source": [
        "#K FOLD CROSS VALIDATION\n",
        "from sklearn.model_selection import cross_val_score,KFold\n",
        "\n",
        "kf = KFold(n_splits=5)\n",
        "score = cross_val_score(clf,X_train,y_train,cv=kf, scoring=\"precision\")\n",
        "print(\"Cross Validation Scores are {}\".format(score))\n",
        "print(\"Average Cross Validation score :{}\".format(score.mean()))"
      ],
      "metadata": {
        "id": "zPTDuYiXVQrh"
      },
      "execution_count": null,
      "outputs": []
    },
    {
      "cell_type": "markdown",
      "source": [
        "Finally, the motivation for performing cross valiation on the Logistic Regression was to confirm whether or not our baseline model is even remotely comparable to the other models that we had used. The above cross validation  wanted to confirm that the Logistic Regression is not generalizable to the entire dataset and that it performs significantly worse than the other models. "
      ],
      "metadata": {
        "id": "ugSX66lCpqvf"
      }
    },
    {
      "cell_type": "markdown",
      "source": [
        "# **Discussion**\n",
        "## Interpreting the result\n",
        "So when we look back at the evaluation metrics with our new models, we see that the best performing model was the decision tree model.\n",
        "\n",
        "Comparing the evaluation metrics, we can see the difference between the Decision Tree and Random Forest models is very marginal. Although the Random Forest model had higher evaluation metrics in precision (RF: 0.9251 vs DT: 0.9156) and the Decision Tree had higher evaluation metrics in F1 Score (RF: 0.9552 vs DT: 0.96), the difference between the two is very small. Because the Linear Regression (0.542) and K-Nearest Neighbors (0.3514) models resulted in low precision and F1 Scores, we did not consider them for selection. \n",
        "\n",
        "Using to the Principal of Parsimony, we've selected the Decision Tree model as the better model because it is less complex than the Random Forest model with both being very similar in performance. Because of this, we believe the Decision Tree model would be a better model for selection.\n",
        "\n",
        "According to the learning curves, the Decision Tree model would require significantly less trials than the Random Forest model. As a result, we believe the Decision Tree would be a better model for selection.\n",
        "\n",
        "## Limitations\n",
        "One limitation of our dataset is that we have a small number of observations that actually have heart disease (9%). This means our models might overfit on predicting whether people don't have heart disease. If we had time, one way of mitigating our unbalanced data would be to run a stratified cross validation. This would allow more equality in predicted heart disease because the folds are selected so that the mean response value is approximately equal in all the folds.\n",
        "\n",
        "Another limitation is that our random forest model is overfitting as shown by the learning curve for random forest. To prevent overfitting in random forest, we need to tune our hyperparameters. Given more time, we could've performed k-fold cross validation to choose tuning parameters that minimizes test sample prediction error. \n",
        "\n",
        "Our dataset also encapsulates data from the CDC in the United States. Because of this our model might perform well on predicting heart disease in the United States, but might perform worse on data internationally such as the United Kingdom or Korea.\n",
        "\n",
        "K-nearest neighbors's performance was very slow running upwards of 6-7 minutes. Our project highlighted the fact that k-nearest neighbors's efficiency slows down as the dataset grows. Another limitation about k-nearest neighbors is its performance on unbalanced data. In our case, k-nearest neighbors would give preference to people without heart disease and end up wrongly classifiying people who do have heart disease."
      ],
      "metadata": {
        "id": "v9-6OjXphIE4"
      }
    },
    {
      "cell_type": "markdown",
      "metadata": {
        "id": "a5zY4nQHROWK"
      },
      "source": [
        "# Ethics & Privacy"
      ]
    },
    {
      "cell_type": "markdown",
      "source": [
        "The dataset utilized in this project relates to patient’s medical history with heart disease. Therefore, it is important that there is no way to tie a particular data point to any one individual, so it is anonymized. In terms of bias, one thing we do want to watch out for is to make sure that all the states in United States are represented in the dataset as to prevent bias, such as how differences in lifestyles in different states could impact risk for heart disease. To get a representative figure for each state, we consider the states as a whole, taking into account all of the regions as one. In order to address these concerns in bias, we have used a dataset from Kaggle that was originally from the CDC as part of the Behavioral Risk Factor Surveillance System (BRFSS). CDC states that BRFSS  collects data in all 50 states as well as the District of Columbia and three U.S. territories. The dataset also includes over 300,000 survey responses. As a result we can ensuring that a large majority of the regions in the United States could be represented in this study.\n",
        "\n",
        "Overall, the data we use for this project has been collected fairly and passes our privacy considerations. In terms of intent, the purpose of this project is to discover possible correlations between participant lifestyles and risk for heart disease, without any goal to implicate or harm any individuals. Due to the fact that our data is anonymized, this project cannot be used to single out or direct harm to an individual. At its base, this project just offers an unbiased study on a prediction model for heart disease. "
      ],
      "metadata": {
        "id": "gr5rYmvktSu3"
      }
    },
    {
      "cell_type": "markdown",
      "metadata": {
        "id": "-7IBXVIgROWK"
      },
      "source": [
        "# Team Expectations "
      ]
    },
    {
      "cell_type": "markdown",
      "metadata": {
        "id": "TIWx1klfROWL"
      },
      "source": [
        "* *Fair amount of work distributed across each member of the group*\n",
        "* *Make sure everyone is in the loop about what's happening*\n",
        "* *If confused, reach out for help*\n",
        "* *Try to get things done early*\n",
        "* *COMMUNICATE! Communication is key and can solve alot of problems from even occuring*"
      ]
    },
    {
      "cell_type": "markdown",
      "metadata": {
        "id": "V0bcVvnnROWL"
      },
      "source": [
        "# Project Timeline Proposal"
      ]
    },
    {
      "cell_type": "markdown",
      "metadata": {
        "id": "fru2qdYLROWL"
      },
      "source": [
        "\n",
        "| Meeting Date  | Meeting Time| Discuss at Meeting  | IGNORE |\n",
        "|---|---|---|---|\n",
        "| 4/28  |  1 PM |Determine best form of communication; Discuss and decide on final project methods;| \n",
        "| 4/29  |  10 AM |  Peer reviews of proposals due. Each group will get ~5 peer reviews which can help you make your project better. In addition, each of your group members will probably have reviewed different projects, so you should discuss among yourselves what you saw during that time. | \n",
        "| 5/1 | 10 AM  | Work on Checkpoint and schedule out time for midterms and everyone else. Midterms caught up with everyone so we kept up with anything we had to do and communicated any issues. We took a break since deadlines got pushed back.|\n",
        "| 5/13  | 6 PM  | We got feedback from the TA so we talked about it on discord to see how we can incoporate it with our work. Checkpoint got delayed till next week|\n",
        "|5/16  | 12 PM  | Finalize wrangling/EDA; Complete checkpoint preliminary results and any missing work |\n",
        "| 5/19  | 12 PM  |We met up and worked on the project|\n",
        "| 5/20  | Before 11:59 PM  |Checkpoint due. We finished the checkpoint and came out good! |\n"
      ]
    },
    {
      "cell_type": "markdown",
      "metadata": {
        "id": "ic9Cf6CCROWM"
      },
      "source": [
        "# Footnotes\n",
        "\n",
        "<a name=\"Wilsonnote\"></a>1.[^](#Wilson): Wilson, P. W. F., D’Agostino, R. B., Levy, D., Belanger, A. M., Silbershatz, H., &amp; Kannel, W. B. (1998, May 12). Prediction of coronary heart disease using risk factor categories. Circulation. Retrieved April 24, 2022, from https://www.ahajournals.org/doi/10.1161/01.cir.97.18.1837 \n",
        "\n",
        "<a name=\"UTSouthnote\"></a>2.[^](#UTSouth): Traditional risk factors predict heart disease about as well as sophisticated genetic test, study suggests. UT Southwestern Medical Center. (2020, February 18). Retrieved April 24, 2022, from https://www.utsouthwestern.edu/newsroom/articles/year-2020/predicting-heart-disease.html#:~:text=18%2C%202020%20%E2%80%93%20Traditional%20cardiovascular%20risk,that%20surveys%20millions%20of%20different \n",
        "\n",
        "<a name=\"Mohannote\"></a>3.[^](#Mohan): Mohan, S., Thirumalai, C., &amp; Srivastava, G. (2019, June 19). Effective heart disease prediction using hybrid machine learning techniques. IEEE Xplore. Retrieved April 24, 2022, from https://ieeexplore.ieee.org/abstract/document/8740989#citations "
      ]
    }
  ],
  "metadata": {
    "kernelspec": {
      "display_name": "Python 3",
      "language": "python",
      "name": "python3"
    },
    "language_info": {
      "codemirror_mode": {
        "name": "ipython",
        "version": 3
      },
      "file_extension": ".py",
      "mimetype": "text/x-python",
      "name": "python",
      "nbconvert_exporter": "python",
      "pygments_lexer": "ipython3",
      "version": "3.7.1"
    },
    "colab": {
      "name": "FinalProject_group001.ipynb",
      "provenance": [],
      "collapsed_sections": []
    }
  },
  "nbformat": 4,
  "nbformat_minor": 0
}